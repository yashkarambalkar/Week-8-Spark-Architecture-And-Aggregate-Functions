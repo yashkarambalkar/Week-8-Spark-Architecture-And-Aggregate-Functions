{
 "cells": [
  {
   "cell_type": "code",
   "execution_count": 1,
   "id": "841b0526",
   "metadata": {},
   "outputs": [],
   "source": [
    "from pyspark.sql import SparkSession\n",
    "from pyspark.sql.functions import *\n",
    "import getpass\n",
    "username = getpass.getuser()\n",
    "spark = SparkSession. \\\n",
    "builder. \\\n",
    "config('spark.ui.port','0'). \\\n",
    "config('spark.sql.warehouse.dir',f'/user/{username}/warehouse'). \\\n",
    "enableHiveSupport(). \\\n",
    "master('yarn'). \\\n",
    "getOrCreate()"
   ]
  },
  {
   "cell_type": "code",
   "execution_count": null,
   "id": "82f8d38a",
   "metadata": {},
   "outputs": [],
   "source": [
    "!hadoop fs -cat /public/trendytech/datasets/windowdata.csv"
   ]
  },
  {
   "cell_type": "code",
   "execution_count": 2,
   "id": "451908fa",
   "metadata": {},
   "outputs": [],
   "source": [
    "orders_df = spark.read \\\n",
    ".format(\"csv\") \\\n",
    ".option('header','true') \\\n",
    ".option('inferSchema','true') \\\n",
    ".load(\"/public/trendytech/datasets/windowdata.csv\")"
   ]
  },
  {
   "cell_type": "code",
   "execution_count": 3,
   "id": "dfd47e5b",
   "metadata": {},
   "outputs": [
    {
     "name": "stdout",
     "output_type": "stream",
     "text": [
      "+---------------+-------+-----------+-------------+------------+\n",
      "|        country|weeknum|numinvoices|totalquantity|invoicevalue|\n",
      "+---------------+-------+-----------+-------------+------------+\n",
      "|      Australia|     49|          1|          214|       258.9|\n",
      "|      Australia|     48|          1|          107|      358.25|\n",
      "|      Australia|     50|          2|          133|      387.95|\n",
      "|        Austria|     50|          2|            3|      257.04|\n",
      "|        Bahrain|     51|          1|           54|      205.74|\n",
      "|        Belgium|     48|          1|          528|       346.1|\n",
      "|        Belgium|     50|          2|          285|      625.16|\n",
      "|        Belgium|     51|          2|          942|      838.65|\n",
      "|Channel Islands|     49|          1|           80|      363.53|\n",
      "|         Cyprus|     50|          1|          917|     1590.82|\n",
      "|        Denmark|     49|          1|          454|      1281.5|\n",
      "|        Finland|     50|          1|         1254|       892.8|\n",
      "|         France|     49|          9|         2303|     4527.01|\n",
      "|         France|     48|          4|         1299|     2808.16|\n",
      "|         France|     51|          5|          847|     1702.87|\n",
      "|         France|     50|          6|          529|      537.32|\n",
      "|        Germany|     48|         11|         1795|     3309.75|\n",
      "|        Germany|     50|         15|         1973|     5065.79|\n",
      "|        Germany|     49|         12|         1852|     4521.39|\n",
      "|        Germany|     51|          5|         1103|     1665.91|\n",
      "+---------------+-------+-----------+-------------+------------+\n",
      "only showing top 20 rows\n",
      "\n"
     ]
    }
   ],
   "source": [
    "orders_df.sort(\"country\").show()"
   ]
  },
  {
   "cell_type": "code",
   "execution_count": 4,
   "id": "96c4abde",
   "metadata": {},
   "outputs": [],
   "source": [
    "orders_df.createOrReplaceTempView('data')"
   ]
  },
  {
   "cell_type": "code",
   "execution_count": 5,
   "id": "479b5d68",
   "metadata": {},
   "outputs": [
    {
     "name": "stdout",
     "output_type": "stream",
     "text": [
      "+---------------+------------------+\n",
      "|        country|     total_invoice|\n",
      "+---------------+------------------+\n",
      "|         Israel|           -227.44|\n",
      "|        Bahrain|            205.74|\n",
      "|         Poland|            248.16|\n",
      "|        Austria|            257.04|\n",
      "|Channel Islands|            363.53|\n",
      "|        Iceland|            711.79|\n",
      "|          Italy|             794.5|\n",
      "|        Finland|             892.8|\n",
      "|      Australia|            1005.1|\n",
      "|        Denmark|            1281.5|\n",
      "|    Switzerland|           1304.92|\n",
      "|         Cyprus|           1590.82|\n",
      "|      Lithuania|           1661.06|\n",
      "|        Belgium|1809.9099999999999|\n",
      "|          Spain|           1843.73|\n",
      "|       Portugal|           2380.12|\n",
      "|         Sweden|            2646.3|\n",
      "|         Norway|           3787.12|\n",
      "|          Japan|           7705.07|\n",
      "|    Netherlands|           8784.48|\n",
      "+---------------+------------------+\n",
      "only showing top 20 rows\n",
      "\n"
     ]
    }
   ],
   "source": [
    "spark.sql(\"\"\"\n",
    "select country, sum(invoicevalue) as total_invoice from data group by country order by total_invoice\n",
    "\"\"\").show()"
   ]
  },
  {
   "cell_type": "markdown",
   "id": "c0203c55",
   "metadata": {},
   "source": [
    "### Make window based on these 3 parameters:\n",
    "#### 1. Partition Based on country\n",
    "#### 2. Sort based on Week Number\n",
    "#### 3. Window Size"
   ]
  },
  {
   "cell_type": "code",
   "execution_count": 7,
   "id": "45015f71",
   "metadata": {},
   "outputs": [
    {
     "name": "stdout",
     "output_type": "stream",
     "text": [
      "+---------------+-------+-----------+-------------+------------+\n",
      "|        country|weeknum|numinvoices|totalquantity|invoicevalue|\n",
      "+---------------+-------+-----------+-------------+------------+\n",
      "|      Australia|     49|          1|          214|       258.9|\n",
      "|      Australia|     48|          1|          107|      358.25|\n",
      "|      Australia|     50|          2|          133|      387.95|\n",
      "|        Austria|     50|          2|            3|      257.04|\n",
      "|        Bahrain|     51|          1|           54|      205.74|\n",
      "|        Belgium|     48|          1|          528|       346.1|\n",
      "|        Belgium|     50|          2|          285|      625.16|\n",
      "|        Belgium|     51|          2|          942|      838.65|\n",
      "|Channel Islands|     49|          1|           80|      363.53|\n",
      "|         Cyprus|     50|          1|          917|     1590.82|\n",
      "|        Denmark|     49|          1|          454|      1281.5|\n",
      "|        Finland|     50|          1|         1254|       892.8|\n",
      "|         France|     49|          9|         2303|     4527.01|\n",
      "|         France|     48|          4|         1299|     2808.16|\n",
      "|         France|     51|          5|          847|     1702.87|\n",
      "|         France|     50|          6|          529|      537.32|\n",
      "|        Germany|     48|         11|         1795|     3309.75|\n",
      "|        Germany|     50|         15|         1973|     5065.79|\n",
      "|        Germany|     49|         12|         1852|     4521.39|\n",
      "|        Germany|     51|          5|         1103|     1665.91|\n",
      "+---------------+-------+-----------+-------------+------------+\n",
      "only showing top 20 rows\n",
      "\n"
     ]
    }
   ],
   "source": [
    "orders_df.sort(\"country\").show()"
   ]
  },
  {
   "cell_type": "code",
   "execution_count": 8,
   "id": "14c0d29e",
   "metadata": {},
   "outputs": [],
   "source": [
    "from pyspark.sql import *"
   ]
  },
  {
   "cell_type": "code",
   "execution_count": 9,
   "id": "2190398e",
   "metadata": {},
   "outputs": [],
   "source": [
    "mywindw = Window.partitionBy(\"country\") \\\n",
    ".orderBy(\"weeknum\") \\\n",
    ".rowsBetween(Window.unboundedPreceding, Window.currentRow)"
   ]
  },
  {
   "cell_type": "code",
   "execution_count": 10,
   "id": "30876d8e",
   "metadata": {},
   "outputs": [],
   "source": [
    "result = orders_df.withColumn(\"running_total\", sum(\"invoicevalue\").over(mywindw))"
   ]
  },
  {
   "cell_type": "code",
   "execution_count": 11,
   "id": "8c114ca8",
   "metadata": {},
   "outputs": [
    {
     "name": "stdout",
     "output_type": "stream",
     "text": [
      "+-------+-------+-----------+-------------+------------+------------------+\n",
      "|country|weeknum|numinvoices|totalquantity|invoicevalue|     running_total|\n",
      "+-------+-------+-----------+-------------+------------+------------------+\n",
      "| Sweden|     50|          3|         3714|      2646.3|            2646.3|\n",
      "|Germany|     48|         11|         1795|     3309.75|           3309.75|\n",
      "|Germany|     49|         12|         1852|     4521.39|           7831.14|\n",
      "|Germany|     50|         15|         1973|     5065.79|          12896.93|\n",
      "|Germany|     51|          5|         1103|     1665.91|          14562.84|\n",
      "| France|     48|          4|         1299|     2808.16|           2808.16|\n",
      "| France|     49|          9|         2303|     4527.01|           7335.17|\n",
      "| France|     50|          6|          529|      537.32|           7872.49|\n",
      "| France|     51|          5|          847|     1702.87|           9575.36|\n",
      "|Belgium|     48|          1|          528|       346.1|             346.1|\n",
      "|Belgium|     50|          2|          285|      625.16|            971.26|\n",
      "|Belgium|     51|          2|          942|      838.65|1809.9099999999999|\n",
      "|Finland|     50|          1|         1254|       892.8|             892.8|\n",
      "|  India|     48|          7|         2822|     3147.23|           3147.23|\n",
      "|  India|     49|          5|         1280|      3284.1|           6431.33|\n",
      "|  India|     50|          5|         1184|     2321.78|           8753.11|\n",
      "|  India|     51|          5|           95|      276.84|           9029.95|\n",
      "|  Italy|     48|          1|          164|       427.8|             427.8|\n",
      "|  Italy|     49|          1|           -2|       -17.0|             410.8|\n",
      "|  Italy|     51|          1|          131|       383.7|             794.5|\n",
      "+-------+-------+-----------+-------------+------------+------------------+\n",
      "only showing top 20 rows\n",
      "\n"
     ]
    }
   ],
   "source": [
    "result.show()"
   ]
  },
  {
   "cell_type": "markdown",
   "id": "af48686a",
   "metadata": {},
   "source": [
    "## More Windowing functions\n",
    "#### 1) Rank : Skipping Rank when score repeats\n",
    "#### 2) DenseRank : Don't Skip Rank even if score repeats\n",
    "#### 3) RowNumber : Similar to  Sr No, ranks arent repeated and there's random selection to it.\n",
    "#### 4) Lead \n",
    "#### 5) Lag"
   ]
  },
  {
   "cell_type": "code",
   "execution_count": 15,
   "id": "50f85d5e",
   "metadata": {},
   "outputs": [],
   "source": [
    "orders_df = spark.read \\\n",
    ".format(\"csv\") \\\n",
    ".option('header','true') \\\n",
    ".option('inferSchema','true') \\\n",
    ".load(\"/public/trendytech/datasets/windowdatamodified.csv\")"
   ]
  },
  {
   "cell_type": "code",
   "execution_count": 16,
   "id": "a8e50810",
   "metadata": {},
   "outputs": [],
   "source": [
    "new_window = Window.partitionBy(\"country\") \\\n",
    ".orderBy(desc(\"invoicevalue\"))"
   ]
  },
  {
   "cell_type": "markdown",
   "id": "37caa7e1",
   "metadata": {},
   "source": [
    "## Rank"
   ]
  },
  {
   "cell_type": "code",
   "execution_count": 17,
   "id": "d23ba46e",
   "metadata": {},
   "outputs": [],
   "source": [
    "rank_df = orders_df.withColumn(\"Rank\", rank().over(new_window))"
   ]
  },
  {
   "cell_type": "code",
   "execution_count": 18,
   "id": "d554644b",
   "metadata": {},
   "outputs": [
    {
     "name": "stdout",
     "output_type": "stream",
     "text": [
      "+-------+-------+-----------+-------------+------------+----+\n",
      "|country|weeknum|numinvoices|totalquantity|invoicevalue|Rank|\n",
      "+-------+-------+-----------+-------------+------------+----+\n",
      "| Sweden|     50|          3|         3714|      2646.3|   1|\n",
      "|Germany|     49|         12|         1852|      1800.0|   1|\n",
      "|Germany|     50|         15|         1973|      1800.0|   1|\n",
      "|Germany|     48|         11|         1795|      1600.0|   3|\n",
      "|Germany|     51|          5|         1103|      1600.0|   3|\n",
      "| France|     50|          6|          529|      537.32|   1|\n",
      "| France|     51|          5|          847|       500.0|   2|\n",
      "| France|     49|          9|         2303|       500.0|   2|\n",
      "| France|     48|          4|         1299|       500.0|   2|\n",
      "|Belgium|     48|          1|          528|       800.0|   1|\n",
      "|Belgium|     51|          2|          942|       800.0|   1|\n",
      "|Belgium|     50|          2|          285|      625.16|   3|\n",
      "|Finland|     50|          1|         1254|       892.8|   1|\n",
      "|  India|     49|          5|         1280|      3284.1|   1|\n",
      "|  India|     50|          5|         1184|     2321.78|   2|\n",
      "|  India|     51|          5|           95|       300.0|   3|\n",
      "|  India|     48|          7|         2822|       300.0|   3|\n",
      "|  Italy|     48|          1|          164|       427.8|   1|\n",
      "|  Italy|     51|          1|          131|       383.7|   2|\n",
      "|  Italy|     49|          1|           -2|       -17.0|   3|\n",
      "+-------+-------+-----------+-------------+------------+----+\n",
      "only showing top 20 rows\n",
      "\n"
     ]
    }
   ],
   "source": [
    "rank_df.show()"
   ]
  },
  {
   "cell_type": "markdown",
   "id": "99704c2d",
   "metadata": {},
   "source": [
    "## Dense Rank"
   ]
  },
  {
   "cell_type": "code",
   "execution_count": 21,
   "id": "0cde133c",
   "metadata": {},
   "outputs": [],
   "source": [
    "dense_df = orders_df.withColumn(\"dense_rank\", dense_rank().over(new_window))"
   ]
  },
  {
   "cell_type": "code",
   "execution_count": 22,
   "id": "e511e679",
   "metadata": {},
   "outputs": [
    {
     "name": "stdout",
     "output_type": "stream",
     "text": [
      "+-------+-------+-----------+-------------+------------+----------+\n",
      "|country|weeknum|numinvoices|totalquantity|invoicevalue|dense_rank|\n",
      "+-------+-------+-----------+-------------+------------+----------+\n",
      "| Sweden|     50|          3|         3714|      2646.3|         1|\n",
      "|Germany|     49|         12|         1852|      1800.0|         1|\n",
      "|Germany|     50|         15|         1973|      1800.0|         1|\n",
      "|Germany|     48|         11|         1795|      1600.0|         2|\n",
      "|Germany|     51|          5|         1103|      1600.0|         2|\n",
      "| France|     50|          6|          529|      537.32|         1|\n",
      "| France|     51|          5|          847|       500.0|         2|\n",
      "| France|     49|          9|         2303|       500.0|         2|\n",
      "| France|     48|          4|         1299|       500.0|         2|\n",
      "|Belgium|     48|          1|          528|       800.0|         1|\n",
      "|Belgium|     51|          2|          942|       800.0|         1|\n",
      "|Belgium|     50|          2|          285|      625.16|         2|\n",
      "|Finland|     50|          1|         1254|       892.8|         1|\n",
      "|  India|     49|          5|         1280|      3284.1|         1|\n",
      "|  India|     50|          5|         1184|     2321.78|         2|\n",
      "|  India|     51|          5|           95|       300.0|         3|\n",
      "|  India|     48|          7|         2822|       300.0|         3|\n",
      "|  Italy|     48|          1|          164|       427.8|         1|\n",
      "|  Italy|     51|          1|          131|       383.7|         2|\n",
      "|  Italy|     49|          1|           -2|       -17.0|         3|\n",
      "+-------+-------+-----------+-------------+------------+----------+\n",
      "only showing top 20 rows\n",
      "\n"
     ]
    }
   ],
   "source": [
    "dense_df.show()"
   ]
  },
  {
   "cell_type": "markdown",
   "id": "954fa474",
   "metadata": {},
   "source": [
    "## Row Number"
   ]
  },
  {
   "cell_type": "code",
   "execution_count": 24,
   "id": "7e811d3b",
   "metadata": {},
   "outputs": [],
   "source": [
    "row_numdf = orders_df.withColumn(\"Row\", row_number().over(new_window))"
   ]
  },
  {
   "cell_type": "code",
   "execution_count": 25,
   "id": "8e7d6e13",
   "metadata": {},
   "outputs": [
    {
     "name": "stdout",
     "output_type": "stream",
     "text": [
      "+-------+-------+-----------+-------------+------------+---+\n",
      "|country|weeknum|numinvoices|totalquantity|invoicevalue|Row|\n",
      "+-------+-------+-----------+-------------+------------+---+\n",
      "| Sweden|     50|          3|         3714|      2646.3|  1|\n",
      "|Germany|     49|         12|         1852|      1800.0|  1|\n",
      "|Germany|     50|         15|         1973|      1800.0|  2|\n",
      "|Germany|     48|         11|         1795|      1600.0|  3|\n",
      "|Germany|     51|          5|         1103|      1600.0|  4|\n",
      "| France|     50|          6|          529|      537.32|  1|\n",
      "| France|     51|          5|          847|       500.0|  2|\n",
      "| France|     49|          9|         2303|       500.0|  3|\n",
      "| France|     48|          4|         1299|       500.0|  4|\n",
      "|Belgium|     48|          1|          528|       800.0|  1|\n",
      "|Belgium|     51|          2|          942|       800.0|  2|\n",
      "|Belgium|     50|          2|          285|      625.16|  3|\n",
      "|Finland|     50|          1|         1254|       892.8|  1|\n",
      "|  India|     49|          5|         1280|      3284.1|  1|\n",
      "|  India|     50|          5|         1184|     2321.78|  2|\n",
      "|  India|     51|          5|           95|       300.0|  3|\n",
      "|  India|     48|          7|         2822|       300.0|  4|\n",
      "|  Italy|     48|          1|          164|       427.8|  1|\n",
      "|  Italy|     51|          1|          131|       383.7|  2|\n",
      "|  Italy|     49|          1|           -2|       -17.0|  3|\n",
      "+-------+-------+-----------+-------------+------------+---+\n",
      "only showing top 20 rows\n",
      "\n"
     ]
    }
   ],
   "source": [
    "row_numdf.show()"
   ]
  },
  {
   "cell_type": "markdown",
   "id": "273c4a76",
   "metadata": {},
   "source": [
    "# LEAD AND LAG Functions"
   ]
  },
  {
   "cell_type": "code",
   "execution_count": 26,
   "id": "d2399921",
   "metadata": {},
   "outputs": [],
   "source": [
    "newwindow = Window.partitionBy(\"country\") \\\n",
    ".orderBy(\"weeknum\")"
   ]
  },
  {
   "cell_type": "code",
   "execution_count": 27,
   "id": "1cd179bd",
   "metadata": {},
   "outputs": [
    {
     "name": "stdout",
     "output_type": "stream",
     "text": [
      "+---------------+-------+-----------+-------------+------------+\n",
      "|        country|weeknum|numinvoices|totalquantity|invoicevalue|\n",
      "+---------------+-------+-----------+-------------+------------+\n",
      "|      Australia|     48|          1|          107|      358.25|\n",
      "|      Australia|     49|          1|          214|       258.9|\n",
      "|      Australia|     50|          2|          133|      387.95|\n",
      "|        Austria|     50|          2|            3|      257.04|\n",
      "|        Bahrain|     51|          1|           54|      205.74|\n",
      "|        Belgium|     48|          1|          528|       800.0|\n",
      "|        Belgium|     50|          2|          285|      625.16|\n",
      "|        Belgium|     51|          2|          942|       800.0|\n",
      "|Channel Islands|     49|          1|           80|      363.53|\n",
      "|         Cyprus|     50|          1|          917|     1590.82|\n",
      "|        Denmark|     49|          1|          454|      1281.5|\n",
      "|        Finland|     50|          1|         1254|       892.8|\n",
      "|         France|     48|          4|         1299|       500.0|\n",
      "|         France|     49|          9|         2303|       500.0|\n",
      "|         France|     50|          6|          529|      537.32|\n",
      "|         France|     51|          5|          847|       500.0|\n",
      "|        Germany|     48|         11|         1795|      1600.0|\n",
      "|        Germany|     49|         12|         1852|      1800.0|\n",
      "|        Germany|     50|         15|         1973|      1800.0|\n",
      "|        Germany|     51|          5|         1103|      1600.0|\n",
      "|        Iceland|     49|          1|          319|      711.79|\n",
      "|          India|     48|          7|         2822|       300.0|\n",
      "|          India|     49|          5|         1280|      3284.1|\n",
      "|          India|     50|          5|         1184|     2321.78|\n",
      "|          India|     51|          5|           95|       300.0|\n",
      "|         Israel|     50|          1|          -56|     -227.44|\n",
      "|          Italy|     48|          1|          164|       427.8|\n",
      "|          Italy|     49|          1|           -2|       -17.0|\n",
      "|          Italy|     51|          1|          131|       383.7|\n",
      "|          Japan|     48|          1|          196|      320.08|\n",
      "|          Japan|     49|          2|         3897|     7384.99|\n",
      "|      Lithuania|     48|          3|          622|     1598.06|\n",
      "|      Lithuania|     49|          1|           30|        63.0|\n",
      "|    Netherlands|     48|          1|           97|       192.6|\n",
      "|    Netherlands|     51|          2|         6714|     8591.88|\n",
      "|         Norway|     48|          1|         1852|     1919.14|\n",
      "|         Norway|     49|          1|         1730|     1867.98|\n",
      "|         Poland|     48|          1|          140|      248.16|\n",
      "|       Portugal|     48|          1|           65|       131.8|\n",
      "|       Portugal|     49|          4|          726|     1844.67|\n",
      "|       Portugal|     50|          3|          154|      403.65|\n",
      "|          Spain|     48|          1|          400|       620.0|\n",
      "|          Spain|     49|          1|           67|      174.72|\n",
      "|          Spain|     50|          2|          400|     1049.01|\n",
      "|         Sweden|     50|          3|         3714|      2646.3|\n",
      "|    Switzerland|     48|          1|          110|       303.4|\n",
      "|    Switzerland|     51|          1|          604|     1001.52|\n",
      "| United Kingdom|     48|        478|        68865|   166116.72|\n",
      "| United Kingdom|     49|        677|       105498|   244020.45|\n",
      "| United Kingdom|     50|        530|        94956|   191501.99|\n",
      "+---------------+-------+-----------+-------------+------------+\n",
      "only showing top 50 rows\n",
      "\n"
     ]
    }
   ],
   "source": [
    "orders_df.orderBy(\"country\",\"weeknum\").show(50)"
   ]
  },
  {
   "cell_type": "code",
   "execution_count": 28,
   "id": "7ce8454e",
   "metadata": {},
   "outputs": [],
   "source": [
    "lag_df = orders_df.withColumn(\"previous_week\",lag(\"invoicevalue\").over(newwindow))"
   ]
  },
  {
   "cell_type": "code",
   "execution_count": 29,
   "id": "c52e23cb",
   "metadata": {},
   "outputs": [
    {
     "name": "stdout",
     "output_type": "stream",
     "text": [
      "+-------+-------+-----------+-------------+------------+-------------+\n",
      "|country|weeknum|numinvoices|totalquantity|invoicevalue|previous_week|\n",
      "+-------+-------+-----------+-------------+------------+-------------+\n",
      "| Sweden|     50|          3|         3714|      2646.3|         null|\n",
      "|Germany|     48|         11|         1795|      1600.0|         null|\n",
      "|Germany|     49|         12|         1852|      1800.0|       1600.0|\n",
      "|Germany|     50|         15|         1973|      1800.0|       1800.0|\n",
      "|Germany|     51|          5|         1103|      1600.0|       1800.0|\n",
      "| France|     48|          4|         1299|       500.0|         null|\n",
      "| France|     49|          9|         2303|       500.0|        500.0|\n",
      "| France|     50|          6|          529|      537.32|        500.0|\n",
      "| France|     51|          5|          847|       500.0|       537.32|\n",
      "|Belgium|     48|          1|          528|       800.0|         null|\n",
      "|Belgium|     50|          2|          285|      625.16|        800.0|\n",
      "|Belgium|     51|          2|          942|       800.0|       625.16|\n",
      "|Finland|     50|          1|         1254|       892.8|         null|\n",
      "|  India|     48|          7|         2822|       300.0|         null|\n",
      "|  India|     49|          5|         1280|      3284.1|        300.0|\n",
      "|  India|     50|          5|         1184|     2321.78|       3284.1|\n",
      "|  India|     51|          5|           95|       300.0|      2321.78|\n",
      "|  Italy|     48|          1|          164|       427.8|         null|\n",
      "|  Italy|     49|          1|           -2|       -17.0|        427.8|\n",
      "|  Italy|     51|          1|          131|       383.7|        -17.0|\n",
      "+-------+-------+-----------+-------------+------------+-------------+\n",
      "only showing top 20 rows\n",
      "\n"
     ]
    }
   ],
   "source": [
    "lag_df.show()"
   ]
  },
  {
   "cell_type": "code",
   "execution_count": 30,
   "id": "f73d477a",
   "metadata": {},
   "outputs": [],
   "source": [
    "invoice_diff = lag_df.withColumn(\"invoice_diff\", expr(\"invoicevalue - previous_week\"))"
   ]
  },
  {
   "cell_type": "code",
   "execution_count": 31,
   "id": "f47f7456",
   "metadata": {},
   "outputs": [
    {
     "name": "stdout",
     "output_type": "stream",
     "text": [
      "+-------+-------+-----------+-------------+------------+-------------+-------------------+\n",
      "|country|weeknum|numinvoices|totalquantity|invoicevalue|previous_week|       invoice_diff|\n",
      "+-------+-------+-----------+-------------+------------+-------------+-------------------+\n",
      "| Sweden|     50|          3|         3714|      2646.3|         null|               null|\n",
      "|Germany|     48|         11|         1795|      1600.0|         null|               null|\n",
      "|Germany|     49|         12|         1852|      1800.0|       1600.0|              200.0|\n",
      "|Germany|     50|         15|         1973|      1800.0|       1800.0|                0.0|\n",
      "|Germany|     51|          5|         1103|      1600.0|       1800.0|             -200.0|\n",
      "| France|     48|          4|         1299|       500.0|         null|               null|\n",
      "| France|     49|          9|         2303|       500.0|        500.0|                0.0|\n",
      "| France|     50|          6|          529|      537.32|        500.0|  37.32000000000005|\n",
      "| France|     51|          5|          847|       500.0|       537.32| -37.32000000000005|\n",
      "|Belgium|     48|          1|          528|       800.0|         null|               null|\n",
      "|Belgium|     50|          2|          285|      625.16|        800.0|-174.84000000000003|\n",
      "|Belgium|     51|          2|          942|       800.0|       625.16| 174.84000000000003|\n",
      "|Finland|     50|          1|         1254|       892.8|         null|               null|\n",
      "|  India|     48|          7|         2822|       300.0|         null|               null|\n",
      "|  India|     49|          5|         1280|      3284.1|        300.0|             2984.1|\n",
      "|  India|     50|          5|         1184|     2321.78|       3284.1| -962.3199999999997|\n",
      "|  India|     51|          5|           95|       300.0|      2321.78|-2021.7800000000002|\n",
      "|  Italy|     48|          1|          164|       427.8|         null|               null|\n",
      "|  Italy|     49|          1|           -2|       -17.0|        427.8|             -444.8|\n",
      "|  Italy|     51|          1|          131|       383.7|        -17.0|              400.7|\n",
      "+-------+-------+-----------+-------------+------------+-------------+-------------------+\n",
      "only showing top 20 rows\n",
      "\n"
     ]
    }
   ],
   "source": [
    "invoice_diff.show()"
   ]
  },
  {
   "cell_type": "markdown",
   "id": "6d7ed758",
   "metadata": {},
   "source": [
    "## To find total sales across all the weeks"
   ]
  },
  {
   "cell_type": "code",
   "execution_count": 32,
   "id": "9ed12465",
   "metadata": {},
   "outputs": [],
   "source": [
    "newwin = Window.partitionBy(\"country\")"
   ]
  },
  {
   "cell_type": "code",
   "execution_count": 33,
   "id": "f7c5bb12",
   "metadata": {},
   "outputs": [],
   "source": [
    "result_df = orders_df.withColumn(\"total_invoice_value\", sum(\"invoicevalue\").over(newwin))"
   ]
  },
  {
   "cell_type": "code",
   "execution_count": 34,
   "id": "e737b202",
   "metadata": {},
   "outputs": [
    {
     "name": "stdout",
     "output_type": "stream",
     "text": [
      "+-------+-------+-----------+-------------+------------+-------------------+\n",
      "|country|weeknum|numinvoices|totalquantity|invoicevalue|total_invoice_value|\n",
      "+-------+-------+-----------+-------------+------------+-------------------+\n",
      "| Sweden|     50|          3|         3714|      2646.3|             2646.3|\n",
      "|Germany|     48|         11|         1795|      1600.0|             6800.0|\n",
      "|Germany|     49|         12|         1852|      1800.0|             6800.0|\n",
      "|Germany|     50|         15|         1973|      1800.0|             6800.0|\n",
      "|Germany|     51|          5|         1103|      1600.0|             6800.0|\n",
      "| France|     51|          5|          847|       500.0| 2037.3200000000002|\n",
      "| France|     49|          9|         2303|       500.0| 2037.3200000000002|\n",
      "| France|     48|          4|         1299|       500.0| 2037.3200000000002|\n",
      "| France|     50|          6|          529|      537.32| 2037.3200000000002|\n",
      "|Belgium|     48|          1|          528|       800.0|            2225.16|\n",
      "|Belgium|     50|          2|          285|      625.16|            2225.16|\n",
      "|Belgium|     51|          2|          942|       800.0|            2225.16|\n",
      "|Finland|     50|          1|         1254|       892.8|              892.8|\n",
      "|  India|     51|          5|           95|       300.0|            6205.88|\n",
      "|  India|     49|          5|         1280|      3284.1|            6205.88|\n",
      "|  India|     48|          7|         2822|       300.0|            6205.88|\n",
      "|  India|     50|          5|         1184|     2321.78|            6205.88|\n",
      "|  Italy|     49|          1|           -2|       -17.0|              794.5|\n",
      "|  Italy|     51|          1|          131|       383.7|              794.5|\n",
      "|  Italy|     48|          1|          164|       427.8|              794.5|\n",
      "+-------+-------+-----------+-------------+------------+-------------------+\n",
      "only showing top 20 rows\n",
      "\n"
     ]
    }
   ],
   "source": [
    "result_df.show()"
   ]
  },
  {
   "cell_type": "code",
   "execution_count": null,
   "id": "4f5aded2",
   "metadata": {},
   "outputs": [],
   "source": []
  }
 ],
 "metadata": {
  "kernelspec": {
   "display_name": "Pyspark 2",
   "language": "python",
   "name": "pyspark2"
  },
  "language_info": {
   "codemirror_mode": {
    "name": "ipython",
    "version": 3
   },
   "file_extension": ".py",
   "mimetype": "text/x-python",
   "name": "python",
   "nbconvert_exporter": "python",
   "pygments_lexer": "ipython3",
   "version": "3.6.12"
  }
 },
 "nbformat": 4,
 "nbformat_minor": 5
}
