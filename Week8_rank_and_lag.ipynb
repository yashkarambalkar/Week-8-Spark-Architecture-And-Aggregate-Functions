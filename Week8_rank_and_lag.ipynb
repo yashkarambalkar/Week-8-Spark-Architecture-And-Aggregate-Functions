{
 "cells": [
  {
   "cell_type": "code",
   "execution_count": 1,
   "id": "1354c64c",
   "metadata": {},
   "outputs": [],
   "source": [
    "from pyspark.sql import SparkSession\n",
    "import getpass\n",
    "username = getpass.getuser()\n",
    "spark = SparkSession. \\\n",
    "builder. \\\n",
    "config('spark.ui.port','0'). \\\n",
    "config(\"spark.sql.warehouse.dir\", f\"/user/{username}/warehouse\"). \\\n",
    "enableHiveSupport(). \\\n",
    "master('yarn'). \\\n",
    "getOrCreate()"
   ]
  },
  {
   "cell_type": "code",
   "execution_count": 2,
   "id": "e486296a",
   "metadata": {},
   "outputs": [],
   "source": [
    "orders_df = spark.read \\\n",
    ".format(\"csv\") \\\n",
    ".option(\"inferSchema\",\"true\") \\\n",
    ".option(\"header\",\"true\") \\\n",
    ".load(\"/public/trendytech/datasets/windowdatamodified.csv\")"
   ]
  },
  {
   "cell_type": "code",
   "execution_count": 3,
   "id": "0ed33d51",
   "metadata": {},
   "outputs": [
    {
     "name": "stdout",
     "output_type": "stream",
     "text": [
      "+--------------+-------+-----------+-------------+------------+\n",
      "|       country|weeknum|numinvoices|totalquantity|invoicevalue|\n",
      "+--------------+-------+-----------+-------------+------------+\n",
      "|         Spain|     49|          1|           67|      174.72|\n",
      "|       Germany|     48|         11|         1795|      1600.0|\n",
      "|     Lithuania|     48|          3|          622|     1598.06|\n",
      "|       Germany|     49|         12|         1852|      1800.0|\n",
      "|       Bahrain|     51|          1|           54|      205.74|\n",
      "|       Iceland|     49|          1|          319|      711.79|\n",
      "|         India|     51|          5|           95|       300.0|\n",
      "|     Australia|     50|          2|          133|      387.95|\n",
      "|         Italy|     49|          1|           -2|       -17.0|\n",
      "|         India|     49|          5|         1280|      3284.1|\n",
      "|         Spain|     50|          2|          400|     1049.01|\n",
      "|United Kingdom|     51|        200|        28782|    75103.46|\n",
      "|        Norway|     49|          1|         1730|     1867.98|\n",
      "|United Kingdom|     48|        478|        68865|   166116.72|\n",
      "|        France|     51|          5|          847|       500.0|\n",
      "|      Portugal|     49|          4|          726|     1844.67|\n",
      "|         Spain|     48|          1|          400|       620.0|\n",
      "|         India|     48|          7|         2822|       300.0|\n",
      "|       Germany|     50|         15|         1973|      1800.0|\n",
      "|         Italy|     51|          1|          131|       383.7|\n",
      "+--------------+-------+-----------+-------------+------------+\n",
      "only showing top 20 rows\n",
      "\n"
     ]
    }
   ],
   "source": [
    "orders_df.show()"
   ]
  },
  {
   "cell_type": "code",
   "execution_count": 4,
   "id": "59764912",
   "metadata": {},
   "outputs": [
    {
     "name": "stdout",
     "output_type": "stream",
     "text": [
      "+---------------+-------+-----------+-------------+------------+\n",
      "|        country|weeknum|numinvoices|totalquantity|invoicevalue|\n",
      "+---------------+-------+-----------+-------------+------------+\n",
      "|      Australia|     49|          1|          214|       258.9|\n",
      "|      Australia|     48|          1|          107|      358.25|\n",
      "|      Australia|     50|          2|          133|      387.95|\n",
      "|        Austria|     50|          2|            3|      257.04|\n",
      "|        Bahrain|     51|          1|           54|      205.74|\n",
      "|        Belgium|     50|          2|          285|      625.16|\n",
      "|        Belgium|     48|          1|          528|       800.0|\n",
      "|        Belgium|     51|          2|          942|       800.0|\n",
      "|Channel Islands|     49|          1|           80|      363.53|\n",
      "|         Cyprus|     50|          1|          917|     1590.82|\n",
      "|        Denmark|     49|          1|          454|      1281.5|\n",
      "|        Finland|     50|          1|         1254|       892.8|\n",
      "|         France|     49|          9|         2303|       500.0|\n",
      "|         France|     48|          4|         1299|       500.0|\n",
      "|         France|     51|          5|          847|       500.0|\n",
      "|         France|     50|          6|          529|      537.32|\n",
      "|        Germany|     51|          5|         1103|      1600.0|\n",
      "|        Germany|     48|         11|         1795|      1600.0|\n",
      "|        Germany|     49|         12|         1852|      1800.0|\n",
      "|        Germany|     50|         15|         1973|      1800.0|\n",
      "+---------------+-------+-----------+-------------+------------+\n",
      "only showing top 20 rows\n",
      "\n"
     ]
    }
   ],
   "source": [
    "orders_df.orderBy(\"country\", \"invoicevalue\").show()"
   ]
  },
  {
   "cell_type": "code",
   "execution_count": 5,
   "id": "261acbfb",
   "metadata": {},
   "outputs": [],
   "source": [
    "from pyspark.sql import *"
   ]
  },
  {
   "cell_type": "code",
   "execution_count": 6,
   "id": "84bbb5e7",
   "metadata": {},
   "outputs": [],
   "source": [
    "myWindow = Window.partitionBy(\"Country\") \\\n",
    ".orderBy(\"weeknum\") \\\n",
    ".rowsBetween(Window.unboundedPreceding, Window.currentRow)"
   ]
  },
  {
   "cell_type": "code",
   "execution_count": 7,
   "id": "f0fa4917",
   "metadata": {},
   "outputs": [],
   "source": [
    "from pyspark.sql.functions import *"
   ]
  },
  {
   "cell_type": "code",
   "execution_count": 8,
   "id": "c8370d63",
   "metadata": {},
   "outputs": [
    {
     "name": "stdout",
     "output_type": "stream",
     "text": [
      "+-------+-------+-----------+-------------+------------+------------------+\n",
      "|country|weeknum|numinvoices|totalquantity|invoicevalue|     running_total|\n",
      "+-------+-------+-----------+-------------+------------+------------------+\n",
      "| Sweden|     50|          3|         3714|      2646.3|            2646.3|\n",
      "|Germany|     48|         11|         1795|      1600.0|            1600.0|\n",
      "|Germany|     49|         12|         1852|      1800.0|            3400.0|\n",
      "|Germany|     50|         15|         1973|      1800.0|            5200.0|\n",
      "|Germany|     51|          5|         1103|      1600.0|            6800.0|\n",
      "| France|     48|          4|         1299|       500.0|             500.0|\n",
      "| France|     49|          9|         2303|       500.0|            1000.0|\n",
      "| France|     50|          6|          529|      537.32|1537.3200000000002|\n",
      "| France|     51|          5|          847|       500.0|2037.3200000000002|\n",
      "|Belgium|     48|          1|          528|       800.0|             800.0|\n",
      "|Belgium|     50|          2|          285|      625.16|1425.1599999999999|\n",
      "|Belgium|     51|          2|          942|       800.0|           2225.16|\n",
      "|Finland|     50|          1|         1254|       892.8|             892.8|\n",
      "|  India|     48|          7|         2822|       300.0|             300.0|\n",
      "|  India|     49|          5|         1280|      3284.1|            3584.1|\n",
      "|  India|     50|          5|         1184|     2321.78|           5905.88|\n",
      "|  India|     51|          5|           95|       300.0|           6205.88|\n",
      "|  Italy|     48|          1|          164|       427.8|             427.8|\n",
      "|  Italy|     49|          1|           -2|       -17.0|             410.8|\n",
      "|  Italy|     51|          1|          131|       383.7|             794.5|\n",
      "+-------+-------+-----------+-------------+------------+------------------+\n",
      "only showing top 20 rows\n",
      "\n"
     ]
    }
   ],
   "source": [
    "orders_df.withColumn(\"running_total\", sum(\"invoicevalue\").over(myWindow)).show()"
   ]
  },
  {
   "cell_type": "code",
   "execution_count": 9,
   "id": "c84763ce",
   "metadata": {},
   "outputs": [],
   "source": [
    "mywindow = Window.partitionBy(\"country\") \\\n",
    ".orderBy(desc(\"invoicevalue\"))"
   ]
  },
  {
   "cell_type": "code",
   "execution_count": 10,
   "id": "1f929b0b",
   "metadata": {},
   "outputs": [],
   "source": [
    "result_df = orders_df.withColumn(\"rank\", rank().over(mywindow))"
   ]
  },
  {
   "cell_type": "code",
   "execution_count": 11,
   "id": "6d061bfb",
   "metadata": {},
   "outputs": [
    {
     "name": "stdout",
     "output_type": "stream",
     "text": [
      "+-------+-------+-----------+-------------+------------+----+\n",
      "|country|weeknum|numinvoices|totalquantity|invoicevalue|rank|\n",
      "+-------+-------+-----------+-------------+------------+----+\n",
      "| Sweden|     50|          3|         3714|      2646.3|   1|\n",
      "|Germany|     49|         12|         1852|      1800.0|   1|\n",
      "|Germany|     50|         15|         1973|      1800.0|   1|\n",
      "|Germany|     48|         11|         1795|      1600.0|   3|\n",
      "|Germany|     51|          5|         1103|      1600.0|   3|\n",
      "| France|     50|          6|          529|      537.32|   1|\n",
      "| France|     51|          5|          847|       500.0|   2|\n",
      "| France|     49|          9|         2303|       500.0|   2|\n",
      "| France|     48|          4|         1299|       500.0|   2|\n",
      "|Belgium|     48|          1|          528|       800.0|   1|\n",
      "|Belgium|     51|          2|          942|       800.0|   1|\n",
      "|Belgium|     50|          2|          285|      625.16|   3|\n",
      "|Finland|     50|          1|         1254|       892.8|   1|\n",
      "|  India|     49|          5|         1280|      3284.1|   1|\n",
      "|  India|     50|          5|         1184|     2321.78|   2|\n",
      "|  India|     51|          5|           95|       300.0|   3|\n",
      "|  India|     48|          7|         2822|       300.0|   3|\n",
      "|  Italy|     48|          1|          164|       427.8|   1|\n",
      "|  Italy|     51|          1|          131|       383.7|   2|\n",
      "|  Italy|     49|          1|           -2|       -17.0|   3|\n",
      "+-------+-------+-----------+-------------+------------+----+\n",
      "only showing top 20 rows\n",
      "\n"
     ]
    }
   ],
   "source": [
    "result_df.show()"
   ]
  },
  {
   "cell_type": "code",
   "execution_count": 13,
   "id": "0b7cb4e8",
   "metadata": {},
   "outputs": [],
   "source": [
    "result_df = orders_df.withColumn(\"rank\", row_number().over(mywindow))"
   ]
  },
  {
   "cell_type": "code",
   "execution_count": 14,
   "id": "59c21fb8",
   "metadata": {},
   "outputs": [
    {
     "name": "stdout",
     "output_type": "stream",
     "text": [
      "+-------+-------+-----------+-------------+------------+----+\n",
      "|country|weeknum|numinvoices|totalquantity|invoicevalue|rank|\n",
      "+-------+-------+-----------+-------------+------------+----+\n",
      "| Sweden|     50|          3|         3714|      2646.3|   1|\n",
      "|Germany|     49|         12|         1852|      1800.0|   1|\n",
      "|Germany|     50|         15|         1973|      1800.0|   2|\n",
      "|Germany|     48|         11|         1795|      1600.0|   3|\n",
      "|Germany|     51|          5|         1103|      1600.0|   4|\n",
      "| France|     50|          6|          529|      537.32|   1|\n",
      "| France|     51|          5|          847|       500.0|   2|\n",
      "| France|     49|          9|         2303|       500.0|   3|\n",
      "| France|     48|          4|         1299|       500.0|   4|\n",
      "|Belgium|     48|          1|          528|       800.0|   1|\n",
      "|Belgium|     51|          2|          942|       800.0|   2|\n",
      "|Belgium|     50|          2|          285|      625.16|   3|\n",
      "|Finland|     50|          1|         1254|       892.8|   1|\n",
      "|  India|     49|          5|         1280|      3284.1|   1|\n",
      "|  India|     50|          5|         1184|     2321.78|   2|\n",
      "|  India|     51|          5|           95|       300.0|   3|\n",
      "|  India|     48|          7|         2822|       300.0|   4|\n",
      "|  Italy|     48|          1|          164|       427.8|   1|\n",
      "|  Italy|     51|          1|          131|       383.7|   2|\n",
      "|  Italy|     49|          1|           -2|       -17.0|   3|\n",
      "+-------+-------+-----------+-------------+------------+----+\n",
      "only showing top 20 rows\n",
      "\n"
     ]
    }
   ],
   "source": [
    "result_df.show()"
   ]
  },
  {
   "cell_type": "code",
   "execution_count": 15,
   "id": "479ee768",
   "metadata": {},
   "outputs": [
    {
     "name": "stdout",
     "output_type": "stream",
     "text": [
      "+---------------+-------+-----------+-------------+------------+----+\n",
      "|        country|weeknum|numinvoices|totalquantity|invoicevalue|rank|\n",
      "+---------------+-------+-----------+-------------+------------+----+\n",
      "|         Sweden|     50|          3|         3714|      2646.3|   1|\n",
      "|        Germany|     49|         12|         1852|      1800.0|   1|\n",
      "|         France|     50|          6|          529|      537.32|   1|\n",
      "|        Belgium|     48|          1|          528|       800.0|   1|\n",
      "|        Finland|     50|          1|         1254|       892.8|   1|\n",
      "|          India|     49|          5|         1280|      3284.1|   1|\n",
      "|          Italy|     48|          1|          164|       427.8|   1|\n",
      "|      Lithuania|     48|          3|          622|     1598.06|   1|\n",
      "|         Norway|     48|          1|         1852|     1919.14|   1|\n",
      "|          Spain|     50|          2|          400|     1049.01|   1|\n",
      "|        Denmark|     49|          1|          454|      1281.5|   1|\n",
      "|        Iceland|     49|          1|          319|      711.79|   1|\n",
      "|         Israel|     50|          1|          -56|     -227.44|   1|\n",
      "|Channel Islands|     49|          1|           80|      363.53|   1|\n",
      "|         Cyprus|     50|          1|          917|     1590.82|   1|\n",
      "|    Switzerland|     51|          1|          604|     1001.52|   1|\n",
      "|          Japan|     49|          2|         3897|     7384.99|   1|\n",
      "|         Poland|     48|          1|          140|      248.16|   1|\n",
      "|       Portugal|     49|          4|          726|     1844.67|   1|\n",
      "|      Australia|     50|          2|          133|      387.95|   1|\n",
      "+---------------+-------+-----------+-------------+------------+----+\n",
      "only showing top 20 rows\n",
      "\n"
     ]
    }
   ],
   "source": [
    "result_df.select(\"*\").where(\"rank == 1\").show()"
   ]
  },
  {
   "cell_type": "code",
   "execution_count": 16,
   "id": "ccfd1ccb",
   "metadata": {},
   "outputs": [
    {
     "name": "stdout",
     "output_type": "stream",
     "text": [
      "+---------------+-------+-----------+-------------+------------+\n",
      "|        country|weeknum|numinvoices|totalquantity|invoicevalue|\n",
      "+---------------+-------+-----------+-------------+------------+\n",
      "|         Sweden|     50|          3|         3714|      2646.3|\n",
      "|        Germany|     49|         12|         1852|      1800.0|\n",
      "|         France|     50|          6|          529|      537.32|\n",
      "|        Belgium|     48|          1|          528|       800.0|\n",
      "|        Finland|     50|          1|         1254|       892.8|\n",
      "|          India|     49|          5|         1280|      3284.1|\n",
      "|          Italy|     48|          1|          164|       427.8|\n",
      "|      Lithuania|     48|          3|          622|     1598.06|\n",
      "|         Norway|     48|          1|         1852|     1919.14|\n",
      "|          Spain|     50|          2|          400|     1049.01|\n",
      "|        Denmark|     49|          1|          454|      1281.5|\n",
      "|        Iceland|     49|          1|          319|      711.79|\n",
      "|         Israel|     50|          1|          -56|     -227.44|\n",
      "|Channel Islands|     49|          1|           80|      363.53|\n",
      "|         Cyprus|     50|          1|          917|     1590.82|\n",
      "|    Switzerland|     51|          1|          604|     1001.52|\n",
      "|          Japan|     49|          2|         3897|     7384.99|\n",
      "|         Poland|     48|          1|          140|      248.16|\n",
      "|       Portugal|     49|          4|          726|     1844.67|\n",
      "|      Australia|     50|          2|          133|      387.95|\n",
      "+---------------+-------+-----------+-------------+------------+\n",
      "only showing top 20 rows\n",
      "\n"
     ]
    }
   ],
   "source": [
    "result_df.select(\"*\").where(\"rank == 1\").drop(\"rank\").show()"
   ]
  },
  {
   "cell_type": "code",
   "execution_count": 17,
   "id": "ec7be8e7",
   "metadata": {},
   "outputs": [],
   "source": [
    "mywindow = Window.partitionBy(\"country\") \\\n",
    ".orderBy(\"weeknum\")"
   ]
  },
  {
   "cell_type": "code",
   "execution_count": 18,
   "id": "c273387f",
   "metadata": {},
   "outputs": [
    {
     "name": "stdout",
     "output_type": "stream",
     "text": [
      "+---------------+-------+-----------+-------------+------------+\n",
      "|        country|weeknum|numinvoices|totalquantity|invoicevalue|\n",
      "+---------------+-------+-----------+-------------+------------+\n",
      "|      Australia|     48|          1|          107|      358.25|\n",
      "|      Australia|     49|          1|          214|       258.9|\n",
      "|      Australia|     50|          2|          133|      387.95|\n",
      "|        Austria|     50|          2|            3|      257.04|\n",
      "|        Bahrain|     51|          1|           54|      205.74|\n",
      "|        Belgium|     48|          1|          528|       800.0|\n",
      "|        Belgium|     50|          2|          285|      625.16|\n",
      "|        Belgium|     51|          2|          942|       800.0|\n",
      "|Channel Islands|     49|          1|           80|      363.53|\n",
      "|         Cyprus|     50|          1|          917|     1590.82|\n",
      "|        Denmark|     49|          1|          454|      1281.5|\n",
      "|        Finland|     50|          1|         1254|       892.8|\n",
      "|         France|     48|          4|         1299|       500.0|\n",
      "|         France|     49|          9|         2303|       500.0|\n",
      "|         France|     50|          6|          529|      537.32|\n",
      "|         France|     51|          5|          847|       500.0|\n",
      "|        Germany|     48|         11|         1795|      1600.0|\n",
      "|        Germany|     49|         12|         1852|      1800.0|\n",
      "|        Germany|     50|         15|         1973|      1800.0|\n",
      "|        Germany|     51|          5|         1103|      1600.0|\n",
      "|        Iceland|     49|          1|          319|      711.79|\n",
      "|          India|     48|          7|         2822|       300.0|\n",
      "|          India|     49|          5|         1280|      3284.1|\n",
      "|          India|     50|          5|         1184|     2321.78|\n",
      "|          India|     51|          5|           95|       300.0|\n",
      "|         Israel|     50|          1|          -56|     -227.44|\n",
      "|          Italy|     48|          1|          164|       427.8|\n",
      "|          Italy|     49|          1|           -2|       -17.0|\n",
      "|          Italy|     51|          1|          131|       383.7|\n",
      "|          Japan|     48|          1|          196|      320.08|\n",
      "|          Japan|     49|          2|         3897|     7384.99|\n",
      "|      Lithuania|     48|          3|          622|     1598.06|\n",
      "|      Lithuania|     49|          1|           30|        63.0|\n",
      "|    Netherlands|     48|          1|           97|       192.6|\n",
      "|    Netherlands|     51|          2|         6714|     8591.88|\n",
      "|         Norway|     48|          1|         1852|     1919.14|\n",
      "|         Norway|     49|          1|         1730|     1867.98|\n",
      "|         Poland|     48|          1|          140|      248.16|\n",
      "|       Portugal|     48|          1|           65|       131.8|\n",
      "|       Portugal|     49|          4|          726|     1844.67|\n",
      "|       Portugal|     50|          3|          154|      403.65|\n",
      "|          Spain|     48|          1|          400|       620.0|\n",
      "|          Spain|     49|          1|           67|      174.72|\n",
      "|          Spain|     50|          2|          400|     1049.01|\n",
      "|         Sweden|     50|          3|         3714|      2646.3|\n",
      "|    Switzerland|     48|          1|          110|       303.4|\n",
      "|    Switzerland|     51|          1|          604|     1001.52|\n",
      "| United Kingdom|     48|        478|        68865|   166116.72|\n",
      "| United Kingdom|     49|        677|       105498|   244020.45|\n",
      "| United Kingdom|     50|        530|        94956|   191501.99|\n",
      "+---------------+-------+-----------+-------------+------------+\n",
      "only showing top 50 rows\n",
      "\n"
     ]
    }
   ],
   "source": [
    "orders_df.orderBy(\"country\",\"weeknum\").show(50)"
   ]
  },
  {
   "cell_type": "code",
   "execution_count": 19,
   "id": "f022dbb5",
   "metadata": {},
   "outputs": [],
   "source": [
    "results_df = orders_df.withColumn(\"previous_week\",lag(\"invoiceValue\").over(mywindow))"
   ]
  },
  {
   "cell_type": "code",
   "execution_count": 20,
   "id": "63dd869e",
   "metadata": {},
   "outputs": [
    {
     "name": "stdout",
     "output_type": "stream",
     "text": [
      "+-------+-------+-----------+-------------+------------+-------------+\n",
      "|country|weeknum|numinvoices|totalquantity|invoicevalue|previous_week|\n",
      "+-------+-------+-----------+-------------+------------+-------------+\n",
      "| Sweden|     50|          3|         3714|      2646.3|         null|\n",
      "|Germany|     48|         11|         1795|      1600.0|         null|\n",
      "|Germany|     49|         12|         1852|      1800.0|       1600.0|\n",
      "|Germany|     50|         15|         1973|      1800.0|       1800.0|\n",
      "|Germany|     51|          5|         1103|      1600.0|       1800.0|\n",
      "| France|     48|          4|         1299|       500.0|         null|\n",
      "| France|     49|          9|         2303|       500.0|        500.0|\n",
      "| France|     50|          6|          529|      537.32|        500.0|\n",
      "| France|     51|          5|          847|       500.0|       537.32|\n",
      "|Belgium|     48|          1|          528|       800.0|         null|\n",
      "+-------+-------+-----------+-------------+------------+-------------+\n",
      "only showing top 10 rows\n",
      "\n"
     ]
    }
   ],
   "source": [
    "results_df.show(10)"
   ]
  },
  {
   "cell_type": "code",
   "execution_count": 21,
   "id": "2acfc7f5",
   "metadata": {},
   "outputs": [],
   "source": [
    "final_df = results_df.withColumn(\"invoice_diff\",expr(\"invoicevalue - previous_week\"))"
   ]
  },
  {
   "cell_type": "code",
   "execution_count": 22,
   "id": "c415a7da",
   "metadata": {},
   "outputs": [
    {
     "name": "stdout",
     "output_type": "stream",
     "text": [
      "+-------+-------+-----------+-------------+------------+-------------+-------------------+\n",
      "|country|weeknum|numinvoices|totalquantity|invoicevalue|previous_week|       invoice_diff|\n",
      "+-------+-------+-----------+-------------+------------+-------------+-------------------+\n",
      "| Sweden|     50|          3|         3714|      2646.3|         null|               null|\n",
      "|Germany|     48|         11|         1795|      1600.0|         null|               null|\n",
      "|Germany|     49|         12|         1852|      1800.0|       1600.0|              200.0|\n",
      "|Germany|     50|         15|         1973|      1800.0|       1800.0|                0.0|\n",
      "|Germany|     51|          5|         1103|      1600.0|       1800.0|             -200.0|\n",
      "| France|     48|          4|         1299|       500.0|         null|               null|\n",
      "| France|     49|          9|         2303|       500.0|        500.0|                0.0|\n",
      "| France|     50|          6|          529|      537.32|        500.0|  37.32000000000005|\n",
      "| France|     51|          5|          847|       500.0|       537.32| -37.32000000000005|\n",
      "|Belgium|     48|          1|          528|       800.0|         null|               null|\n",
      "|Belgium|     50|          2|          285|      625.16|        800.0|-174.84000000000003|\n",
      "|Belgium|     51|          2|          942|       800.0|       625.16| 174.84000000000003|\n",
      "|Finland|     50|          1|         1254|       892.8|         null|               null|\n",
      "|  India|     48|          7|         2822|       300.0|         null|               null|\n",
      "|  India|     49|          5|         1280|      3284.1|        300.0|             2984.1|\n",
      "|  India|     50|          5|         1184|     2321.78|       3284.1| -962.3199999999997|\n",
      "|  India|     51|          5|           95|       300.0|      2321.78|-2021.7800000000002|\n",
      "|  Italy|     48|          1|          164|       427.8|         null|               null|\n",
      "|  Italy|     49|          1|           -2|       -17.0|        427.8|             -444.8|\n",
      "|  Italy|     51|          1|          131|       383.7|        -17.0|              400.7|\n",
      "+-------+-------+-----------+-------------+------------+-------------+-------------------+\n",
      "only showing top 20 rows\n",
      "\n"
     ]
    }
   ],
   "source": [
    "final_df.show()"
   ]
  },
  {
   "cell_type": "code",
   "execution_count": 23,
   "id": "5cde61e4",
   "metadata": {},
   "outputs": [],
   "source": [
    "res_df = Window.partitionBy(\"Country\")"
   ]
  },
  {
   "cell_type": "code",
   "execution_count": 24,
   "id": "8b1e67c9",
   "metadata": {},
   "outputs": [],
   "source": [
    "result = orders_df.withColumn(\"total_invoice_value\",sum(\"invoicevalue\").over(res_df))"
   ]
  },
  {
   "cell_type": "code",
   "execution_count": 25,
   "id": "9c9abb94",
   "metadata": {},
   "outputs": [
    {
     "name": "stdout",
     "output_type": "stream",
     "text": [
      "+-------+-------+-----------+-------------+------------+-------------------+\n",
      "|country|weeknum|numinvoices|totalquantity|invoicevalue|total_invoice_value|\n",
      "+-------+-------+-----------+-------------+------------+-------------------+\n",
      "| Sweden|     50|          3|         3714|      2646.3|             2646.3|\n",
      "|Germany|     48|         11|         1795|      1600.0|             6800.0|\n",
      "|Germany|     49|         12|         1852|      1800.0|             6800.0|\n",
      "|Germany|     50|         15|         1973|      1800.0|             6800.0|\n",
      "|Germany|     51|          5|         1103|      1600.0|             6800.0|\n",
      "| France|     51|          5|          847|       500.0| 2037.3200000000002|\n",
      "| France|     49|          9|         2303|       500.0| 2037.3200000000002|\n",
      "| France|     48|          4|         1299|       500.0| 2037.3200000000002|\n",
      "| France|     50|          6|          529|      537.32| 2037.3200000000002|\n",
      "|Belgium|     48|          1|          528|       800.0|            2225.16|\n",
      "|Belgium|     50|          2|          285|      625.16|            2225.16|\n",
      "|Belgium|     51|          2|          942|       800.0|            2225.16|\n",
      "|Finland|     50|          1|         1254|       892.8|              892.8|\n",
      "|  India|     51|          5|           95|       300.0|            6205.88|\n",
      "|  India|     49|          5|         1280|      3284.1|            6205.88|\n",
      "|  India|     48|          7|         2822|       300.0|            6205.88|\n",
      "|  India|     50|          5|         1184|     2321.78|            6205.88|\n",
      "|  Italy|     49|          1|           -2|       -17.0|              794.5|\n",
      "|  Italy|     51|          1|          131|       383.7|              794.5|\n",
      "|  Italy|     48|          1|          164|       427.8|              794.5|\n",
      "+-------+-------+-----------+-------------+------------+-------------------+\n",
      "only showing top 20 rows\n",
      "\n"
     ]
    }
   ],
   "source": [
    "result.show()"
   ]
  },
  {
   "cell_type": "code",
   "execution_count": null,
   "id": "545a0cf0",
   "metadata": {},
   "outputs": [],
   "source": []
  }
 ],
 "metadata": {
  "kernelspec": {
   "display_name": "Pyspark 2",
   "language": "python",
   "name": "pyspark2"
  },
  "language_info": {
   "codemirror_mode": {
    "name": "ipython",
    "version": 3
   },
   "file_extension": ".py",
   "mimetype": "text/x-python",
   "name": "python",
   "nbconvert_exporter": "python",
   "pygments_lexer": "ipython3",
   "version": "3.6.12"
  }
 },
 "nbformat": 4,
 "nbformat_minor": 5
}
