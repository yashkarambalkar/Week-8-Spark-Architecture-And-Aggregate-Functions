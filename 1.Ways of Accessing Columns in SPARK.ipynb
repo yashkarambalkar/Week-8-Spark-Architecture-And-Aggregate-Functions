{
 "cells": [
  {
   "cell_type": "code",
   "execution_count": 1,
   "id": "ab0ce270",
   "metadata": {},
   "outputs": [],
   "source": [
    "from pyspark.sql import SparkSession\n",
    "import getpass\n",
    "username = getpass.getuser()\n",
    "spark = SparkSession. \\\n",
    "builder. \\\n",
    "config('spark.ui.port','0'). \\\n",
    "config('spark.sql.warehouse.dir',f'/user/{username}/warehouse'). \\\n",
    "enableHiveSupport(). \\\n",
    "master('yarn'). \\\n",
    "getOrCreate()"
   ]
  },
  {
   "cell_type": "code",
   "execution_count": 2,
   "id": "c735737f",
   "metadata": {},
   "outputs": [],
   "source": [
    "orders_schema = 'order_id long, order_date date, customer_id long, order_status string'\n",
    "orders_df = spark.read. \\\n",
    "format('csv'). \\\n",
    "schema(orders_schema). \\\n",
    "load('/public/trendytech/orders/orders_1gb.csv')"
   ]
  },
  {
   "cell_type": "code",
   "execution_count": 3,
   "id": "11d2d7f9",
   "metadata": {},
   "outputs": [
    {
     "name": "stdout",
     "output_type": "stream",
     "text": [
      "+--------+----------+-----------+---------------+\n",
      "|order_id|order_date|customer_id|   order_status|\n",
      "+--------+----------+-----------+---------------+\n",
      "|       1|2013-07-25|      11599|         CLOSED|\n",
      "|       2|2013-07-25|        256|PENDING_PAYMENT|\n",
      "|       3|2013-07-25|      12111|       COMPLETE|\n",
      "|       4|2013-07-25|       8827|         CLOSED|\n",
      "|       5|2013-07-25|      11318|       COMPLETE|\n",
      "|       6|2013-07-25|       7130|       COMPLETE|\n",
      "|       7|2013-07-25|       4530|       COMPLETE|\n",
      "|       8|2013-07-25|       2911|     PROCESSING|\n",
      "|       9|2013-07-25|       5657|PENDING_PAYMENT|\n",
      "|      10|2013-07-25|       5648|PENDING_PAYMENT|\n",
      "|      11|2013-07-25|        918| PAYMENT_REVIEW|\n",
      "|      12|2013-07-25|       1837|         CLOSED|\n",
      "|      13|2013-07-25|       9149|PENDING_PAYMENT|\n",
      "|      14|2013-07-25|       9842|     PROCESSING|\n",
      "|      15|2013-07-25|       2568|       COMPLETE|\n",
      "|      16|2013-07-25|       7276|PENDING_PAYMENT|\n",
      "|      17|2013-07-25|       2667|       COMPLETE|\n",
      "|      18|2013-07-25|       1205|         CLOSED|\n",
      "|      19|2013-07-25|       9488|PENDING_PAYMENT|\n",
      "|      20|2013-07-25|       9198|     PROCESSING|\n",
      "+--------+----------+-----------+---------------+\n",
      "only showing top 20 rows\n",
      "\n"
     ]
    }
   ],
   "source": [
    "orders_df.show()"
   ]
  },
  {
   "cell_type": "markdown",
   "id": "cf346172",
   "metadata": {},
   "source": [
    "### 1) To view all the columns of DF"
   ]
  },
  {
   "cell_type": "code",
   "execution_count": 4,
   "id": "3cb8c465",
   "metadata": {},
   "outputs": [
    {
     "name": "stdout",
     "output_type": "stream",
     "text": [
      "+--------+----------+-----------+---------------+\n",
      "|order_id|order_date|customer_id|   order_status|\n",
      "+--------+----------+-----------+---------------+\n",
      "|       1|2013-07-25|      11599|         CLOSED|\n",
      "|       2|2013-07-25|        256|PENDING_PAYMENT|\n",
      "|       3|2013-07-25|      12111|       COMPLETE|\n",
      "|       4|2013-07-25|       8827|         CLOSED|\n",
      "|       5|2013-07-25|      11318|       COMPLETE|\n",
      "|       6|2013-07-25|       7130|       COMPLETE|\n",
      "|       7|2013-07-25|       4530|       COMPLETE|\n",
      "|       8|2013-07-25|       2911|     PROCESSING|\n",
      "|       9|2013-07-25|       5657|PENDING_PAYMENT|\n",
      "|      10|2013-07-25|       5648|PENDING_PAYMENT|\n",
      "|      11|2013-07-25|        918| PAYMENT_REVIEW|\n",
      "|      12|2013-07-25|       1837|         CLOSED|\n",
      "|      13|2013-07-25|       9149|PENDING_PAYMENT|\n",
      "|      14|2013-07-25|       9842|     PROCESSING|\n",
      "|      15|2013-07-25|       2568|       COMPLETE|\n",
      "|      16|2013-07-25|       7276|PENDING_PAYMENT|\n",
      "|      17|2013-07-25|       2667|       COMPLETE|\n",
      "|      18|2013-07-25|       1205|         CLOSED|\n",
      "|      19|2013-07-25|       9488|PENDING_PAYMENT|\n",
      "|      20|2013-07-25|       9198|     PROCESSING|\n",
      "+--------+----------+-----------+---------------+\n",
      "only showing top 20 rows\n",
      "\n"
     ]
    }
   ],
   "source": [
    "orders_df.select(\"*\").show()"
   ]
  },
  {
   "cell_type": "markdown",
   "id": "86a99992",
   "metadata": {},
   "source": [
    "### 2) To view Specific Columns we use: column String expression\n",
    "#### We're trying to acess column using string notation."
   ]
  },
  {
   "cell_type": "code",
   "execution_count": 5,
   "id": "f7a561bf",
   "metadata": {},
   "outputs": [
    {
     "name": "stdout",
     "output_type": "stream",
     "text": [
      "+--------+----------+\n",
      "|order_id|order_date|\n",
      "+--------+----------+\n",
      "|       1|2013-07-25|\n",
      "|       2|2013-07-25|\n",
      "|       3|2013-07-25|\n",
      "|       4|2013-07-25|\n",
      "|       5|2013-07-25|\n",
      "|       6|2013-07-25|\n",
      "|       7|2013-07-25|\n",
      "|       8|2013-07-25|\n",
      "|       9|2013-07-25|\n",
      "|      10|2013-07-25|\n",
      "|      11|2013-07-25|\n",
      "|      12|2013-07-25|\n",
      "|      13|2013-07-25|\n",
      "|      14|2013-07-25|\n",
      "|      15|2013-07-25|\n",
      "|      16|2013-07-25|\n",
      "|      17|2013-07-25|\n",
      "|      18|2013-07-25|\n",
      "|      19|2013-07-25|\n",
      "|      20|2013-07-25|\n",
      "+--------+----------+\n",
      "only showing top 20 rows\n",
      "\n"
     ]
    }
   ],
   "source": [
    "orders_df.select(\"order_id\",\"order_date\").show()"
   ]
  },
  {
   "cell_type": "markdown",
   "id": "0430a716",
   "metadata": {},
   "source": [
    "### We can also use: \n",
    "#### 3) df.select(df.column_name1,df.column_name2)"
   ]
  },
  {
   "cell_type": "code",
   "execution_count": 6,
   "id": "8eb661e0",
   "metadata": {},
   "outputs": [],
   "source": [
    "from pyspark.sql.functions import *"
   ]
  },
  {
   "cell_type": "code",
   "execution_count": 7,
   "id": "248181ad",
   "metadata": {},
   "outputs": [
    {
     "name": "stdout",
     "output_type": "stream",
     "text": [
      "+--------+----------+\n",
      "|order_id|order_date|\n",
      "+--------+----------+\n",
      "|       1|2013-07-25|\n",
      "|       2|2013-07-25|\n",
      "|       3|2013-07-25|\n",
      "|       4|2013-07-25|\n",
      "|       5|2013-07-25|\n",
      "|       6|2013-07-25|\n",
      "|       7|2013-07-25|\n",
      "|       8|2013-07-25|\n",
      "|       9|2013-07-25|\n",
      "|      10|2013-07-25|\n",
      "|      11|2013-07-25|\n",
      "|      12|2013-07-25|\n",
      "|      13|2013-07-25|\n",
      "|      14|2013-07-25|\n",
      "|      15|2013-07-25|\n",
      "|      16|2013-07-25|\n",
      "|      17|2013-07-25|\n",
      "|      18|2013-07-25|\n",
      "|      19|2013-07-25|\n",
      "|      20|2013-07-25|\n",
      "+--------+----------+\n",
      "only showing top 20 rows\n",
      "\n"
     ]
    }
   ],
   "source": [
    "orders_df.select(orders_df.order_id,orders_df.order_date).show()"
   ]
  },
  {
   "cell_type": "markdown",
   "id": "7711f694",
   "metadata": {},
   "source": [
    "### 4) using column Object:\n",
    "#### df.select(column('column_name'))\n",
    "#### df.select(col('column_name'))\n",
    "#### df.select(expr('column_name'))"
   ]
  },
  {
   "cell_type": "code",
   "execution_count": 11,
   "id": "5ecbd16c",
   "metadata": {},
   "outputs": [
    {
     "name": "stdout",
     "output_type": "stream",
     "text": [
      "+-----------+-----------+---------------+\n",
      "|customer_id|customer_id|   order_status|\n",
      "+-----------+-----------+---------------+\n",
      "|      11599|      11599|         CLOSED|\n",
      "|        256|        256|PENDING_PAYMENT|\n",
      "|      12111|      12111|       COMPLETE|\n",
      "|       8827|       8827|         CLOSED|\n",
      "|      11318|      11318|       COMPLETE|\n",
      "|       7130|       7130|       COMPLETE|\n",
      "|       4530|       4530|       COMPLETE|\n",
      "|       2911|       2911|     PROCESSING|\n",
      "|       5657|       5657|PENDING_PAYMENT|\n",
      "|       5648|       5648|PENDING_PAYMENT|\n",
      "|        918|        918| PAYMENT_REVIEW|\n",
      "|       1837|       1837|         CLOSED|\n",
      "|       9149|       9149|PENDING_PAYMENT|\n",
      "|       9842|       9842|     PROCESSING|\n",
      "|       2568|       2568|       COMPLETE|\n",
      "|       7276|       7276|PENDING_PAYMENT|\n",
      "|       2667|       2667|       COMPLETE|\n",
      "|       1205|       1205|         CLOSED|\n",
      "|       9488|       9488|PENDING_PAYMENT|\n",
      "|       9198|       9198|     PROCESSING|\n",
      "+-----------+-----------+---------------+\n",
      "only showing top 20 rows\n",
      "\n"
     ]
    }
   ],
   "source": [
    "orders_df.select(column('customer_id'),col('customer_id'), expr('order_status')).show()"
   ]
  },
  {
   "cell_type": "markdown",
   "id": "0d261cef",
   "metadata": {},
   "source": [
    "#### \"order_id\" = Column String\n",
    "####  orders_df.order_date: \n",
    "####  column('cust_id') / col('cust_id') = column object\n",
    "####  expr(\"order_status\") = column expression"
   ]
  },
  {
   "cell_type": "code",
   "execution_count": null,
   "id": "6f45e933",
   "metadata": {},
   "outputs": [],
   "source": []
  }
 ],
 "metadata": {
  "kernelspec": {
   "display_name": "Pyspark 2",
   "language": "python",
   "name": "pyspark2"
  },
  "language_info": {
   "codemirror_mode": {
    "name": "ipython",
    "version": 3
   },
   "file_extension": ".py",
   "mimetype": "text/x-python",
   "name": "python",
   "nbconvert_exporter": "python",
   "pygments_lexer": "ipython3",
   "version": "3.6.12"
  }
 },
 "nbformat": 4,
 "nbformat_minor": 5
}
