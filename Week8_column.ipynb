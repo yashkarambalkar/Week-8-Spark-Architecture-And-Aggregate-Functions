{
 "cells": [
  {
   "cell_type": "code",
   "execution_count": 1,
   "id": "c22f014a",
   "metadata": {},
   "outputs": [],
   "source": [
    "from pyspark.sql import SparkSession\n",
    "import getpass\n",
    "username = getpass.getuser()\n",
    "spark = SparkSession. \\\n",
    "builder. \\\n",
    "config('spark.ui.port','0'). \\\n",
    "config(\"spark.sql.warehouse.dir\", f\"/user/{username}/warehouse\"). \\\n",
    "enableHiveSupport(). \\\n",
    "master('yarn'). \\\n",
    "getOrCreate()"
   ]
  },
  {
   "cell_type": "code",
   "execution_count": 2,
   "id": "daa54fb0",
   "metadata": {},
   "outputs": [],
   "source": [
    "orders_schema = 'order_id long, order_date date, cust_id long, order_status string'"
   ]
  },
  {
   "cell_type": "code",
   "execution_count": 3,
   "id": "b1692ef5",
   "metadata": {},
   "outputs": [],
   "source": [
    "orders_df = spark.read \\\n",
    ".format(\"csv\") \\\n",
    ".schema(orders_schema) \\\n",
    ".load(\"/public/trendytech/orders/orders_1gb.csv\")"
   ]
  },
  {
   "cell_type": "code",
   "execution_count": 4,
   "id": "d7ddad90",
   "metadata": {},
   "outputs": [
    {
     "name": "stdout",
     "output_type": "stream",
     "text": [
      "+--------+----------+-------+---------------+\n",
      "|order_id|order_date|cust_id|   order_status|\n",
      "+--------+----------+-------+---------------+\n",
      "|       1|2013-07-25|  11599|         CLOSED|\n",
      "|       2|2013-07-25|    256|PENDING_PAYMENT|\n",
      "|       3|2013-07-25|  12111|       COMPLETE|\n",
      "|       4|2013-07-25|   8827|         CLOSED|\n",
      "|       5|2013-07-25|  11318|       COMPLETE|\n",
      "|       6|2013-07-25|   7130|       COMPLETE|\n",
      "|       7|2013-07-25|   4530|       COMPLETE|\n",
      "|       8|2013-07-25|   2911|     PROCESSING|\n",
      "|       9|2013-07-25|   5657|PENDING_PAYMENT|\n",
      "|      10|2013-07-25|   5648|PENDING_PAYMENT|\n",
      "|      11|2013-07-25|    918| PAYMENT_REVIEW|\n",
      "|      12|2013-07-25|   1837|         CLOSED|\n",
      "|      13|2013-07-25|   9149|PENDING_PAYMENT|\n",
      "|      14|2013-07-25|   9842|     PROCESSING|\n",
      "|      15|2013-07-25|   2568|       COMPLETE|\n",
      "|      16|2013-07-25|   7276|PENDING_PAYMENT|\n",
      "|      17|2013-07-25|   2667|       COMPLETE|\n",
      "|      18|2013-07-25|   1205|         CLOSED|\n",
      "|      19|2013-07-25|   9488|PENDING_PAYMENT|\n",
      "|      20|2013-07-25|   9198|     PROCESSING|\n",
      "+--------+----------+-------+---------------+\n",
      "only showing top 20 rows\n",
      "\n"
     ]
    }
   ],
   "source": [
    "orders_df.show()"
   ]
  },
  {
   "cell_type": "code",
   "execution_count": 5,
   "id": "33f0dea9",
   "metadata": {},
   "outputs": [
    {
     "name": "stdout",
     "output_type": "stream",
     "text": [
      "+--------+----------+-------+---------------+\n",
      "|order_id|order_date|cust_id|   order_status|\n",
      "+--------+----------+-------+---------------+\n",
      "|       1|2013-07-25|  11599|         CLOSED|\n",
      "|       2|2013-07-25|    256|PENDING_PAYMENT|\n",
      "|       3|2013-07-25|  12111|       COMPLETE|\n",
      "|       4|2013-07-25|   8827|         CLOSED|\n",
      "|       5|2013-07-25|  11318|       COMPLETE|\n",
      "|       6|2013-07-25|   7130|       COMPLETE|\n",
      "|       7|2013-07-25|   4530|       COMPLETE|\n",
      "|       8|2013-07-25|   2911|     PROCESSING|\n",
      "|       9|2013-07-25|   5657|PENDING_PAYMENT|\n",
      "|      10|2013-07-25|   5648|PENDING_PAYMENT|\n",
      "|      11|2013-07-25|    918| PAYMENT_REVIEW|\n",
      "|      12|2013-07-25|   1837|         CLOSED|\n",
      "|      13|2013-07-25|   9149|PENDING_PAYMENT|\n",
      "|      14|2013-07-25|   9842|     PROCESSING|\n",
      "|      15|2013-07-25|   2568|       COMPLETE|\n",
      "|      16|2013-07-25|   7276|PENDING_PAYMENT|\n",
      "|      17|2013-07-25|   2667|       COMPLETE|\n",
      "|      18|2013-07-25|   1205|         CLOSED|\n",
      "|      19|2013-07-25|   9488|PENDING_PAYMENT|\n",
      "|      20|2013-07-25|   9198|     PROCESSING|\n",
      "+--------+----------+-------+---------------+\n",
      "only showing top 20 rows\n",
      "\n"
     ]
    }
   ],
   "source": [
    "orders_df.select(\"*\").show()"
   ]
  },
  {
   "cell_type": "code",
   "execution_count": 6,
   "id": "3d090ca9",
   "metadata": {},
   "outputs": [
    {
     "name": "stdout",
     "output_type": "stream",
     "text": [
      "+--------+----------+\n",
      "|order_id|order_date|\n",
      "+--------+----------+\n",
      "|       1|2013-07-25|\n",
      "|       2|2013-07-25|\n",
      "|       3|2013-07-25|\n",
      "|       4|2013-07-25|\n",
      "|       5|2013-07-25|\n",
      "|       6|2013-07-25|\n",
      "|       7|2013-07-25|\n",
      "|       8|2013-07-25|\n",
      "|       9|2013-07-25|\n",
      "|      10|2013-07-25|\n",
      "|      11|2013-07-25|\n",
      "|      12|2013-07-25|\n",
      "|      13|2013-07-25|\n",
      "|      14|2013-07-25|\n",
      "|      15|2013-07-25|\n",
      "|      16|2013-07-25|\n",
      "|      17|2013-07-25|\n",
      "|      18|2013-07-25|\n",
      "|      19|2013-07-25|\n",
      "|      20|2013-07-25|\n",
      "+--------+----------+\n",
      "only showing top 20 rows\n",
      "\n"
     ]
    }
   ],
   "source": [
    "orders_df.select(\"order_id\",\"order_date\").show()"
   ]
  },
  {
   "cell_type": "code",
   "execution_count": 7,
   "id": "dff70325",
   "metadata": {},
   "outputs": [],
   "source": [
    "from pyspark.sql.functions import *"
   ]
  },
  {
   "cell_type": "code",
   "execution_count": 8,
   "id": "0d03a66c",
   "metadata": {},
   "outputs": [
    {
     "name": "stdout",
     "output_type": "stream",
     "text": [
      "+--------+----------+----------+-------+-------+---------------+\n",
      "|order_id|order_date|order_date|cust_id|cust_id|   order_status|\n",
      "+--------+----------+----------+-------+-------+---------------+\n",
      "|       1|2013-07-25|2013-07-25|  11599|  11599|         CLOSED|\n",
      "|       2|2013-07-25|2013-07-25|    256|    256|PENDING_PAYMENT|\n",
      "|       3|2013-07-25|2013-07-25|  12111|  12111|       COMPLETE|\n",
      "|       4|2013-07-25|2013-07-25|   8827|   8827|         CLOSED|\n",
      "|       5|2013-07-25|2013-07-25|  11318|  11318|       COMPLETE|\n",
      "|       6|2013-07-25|2013-07-25|   7130|   7130|       COMPLETE|\n",
      "|       7|2013-07-25|2013-07-25|   4530|   4530|       COMPLETE|\n",
      "|       8|2013-07-25|2013-07-25|   2911|   2911|     PROCESSING|\n",
      "|       9|2013-07-25|2013-07-25|   5657|   5657|PENDING_PAYMENT|\n",
      "|      10|2013-07-25|2013-07-25|   5648|   5648|PENDING_PAYMENT|\n",
      "|      11|2013-07-25|2013-07-25|    918|    918| PAYMENT_REVIEW|\n",
      "|      12|2013-07-25|2013-07-25|   1837|   1837|         CLOSED|\n",
      "|      13|2013-07-25|2013-07-25|   9149|   9149|PENDING_PAYMENT|\n",
      "|      14|2013-07-25|2013-07-25|   9842|   9842|     PROCESSING|\n",
      "|      15|2013-07-25|2013-07-25|   2568|   2568|       COMPLETE|\n",
      "|      16|2013-07-25|2013-07-25|   7276|   7276|PENDING_PAYMENT|\n",
      "|      17|2013-07-25|2013-07-25|   2667|   2667|       COMPLETE|\n",
      "|      18|2013-07-25|2013-07-25|   1205|   1205|         CLOSED|\n",
      "|      19|2013-07-25|2013-07-25|   9488|   9488|PENDING_PAYMENT|\n",
      "|      20|2013-07-25|2013-07-25|   9198|   9198|     PROCESSING|\n",
      "+--------+----------+----------+-------+-------+---------------+\n",
      "only showing top 20 rows\n",
      "\n"
     ]
    }
   ],
   "source": [
    "orders_df.select(\"order_id\",orders_df.order_date,orders_df['order_date'], column('cust_id'), col('cust_id'), expr(\"order_status\")).show()"
   ]
  },
  {
   "cell_type": "code",
   "execution_count": 10,
   "id": "7775ad90",
   "metadata": {},
   "outputs": [
    {
     "name": "stdout",
     "output_type": "stream",
     "text": [
      "+--------+-------+-------------+\n",
      "|order_id|cust_id|(cust_id + 1)|\n",
      "+--------+-------+-------------+\n",
      "|       1|  11599|        11600|\n",
      "|       2|    256|          257|\n",
      "|       3|  12111|        12112|\n",
      "|       4|   8827|         8828|\n",
      "|       5|  11318|        11319|\n",
      "|       6|   7130|         7131|\n",
      "|       7|   4530|         4531|\n",
      "|       8|   2911|         2912|\n",
      "|       9|   5657|         5658|\n",
      "|      10|   5648|         5649|\n",
      "|      11|    918|          919|\n",
      "|      12|   1837|         1838|\n",
      "|      13|   9149|         9150|\n",
      "|      14|   9842|         9843|\n",
      "|      15|   2568|         2569|\n",
      "|      16|   7276|         7277|\n",
      "|      17|   2667|         2668|\n",
      "|      18|   1205|         1206|\n",
      "|      19|   9488|         9489|\n",
      "|      20|   9198|         9199|\n",
      "+--------+-------+-------------+\n",
      "only showing top 20 rows\n",
      "\n"
     ]
    }
   ],
   "source": [
    "orders_df.select(\"order_id\", \"cust_id\", expr(\"cust_id + 1\")).show()"
   ]
  },
  {
   "cell_type": "code",
   "execution_count": 12,
   "id": "3d84dff6",
   "metadata": {},
   "outputs": [
    {
     "name": "stdout",
     "output_type": "stream",
     "text": [
      "+--------+----------+----------+-------+-------+---------------+\n",
      "|order_id|order_date|order_date|cust_id|cust_id|   order_status|\n",
      "+--------+----------+----------+-------+-------+---------------+\n",
      "|       2|2013-07-25|2013-07-25|    256|    256|PENDING_PAYMENT|\n",
      "|       9|2013-07-25|2013-07-25|   5657|   5657|PENDING_PAYMENT|\n",
      "|      10|2013-07-25|2013-07-25|   5648|   5648|PENDING_PAYMENT|\n",
      "|      13|2013-07-25|2013-07-25|   9149|   9149|PENDING_PAYMENT|\n",
      "|      16|2013-07-25|2013-07-25|   7276|   7276|PENDING_PAYMENT|\n",
      "|      19|2013-07-25|2013-07-25|   9488|   9488|PENDING_PAYMENT|\n",
      "|      21|2013-07-25|2013-07-25|   2711|   2711|        PENDING|\n",
      "|      23|2013-07-25|2013-07-25|   4367|   4367|PENDING_PAYMENT|\n",
      "|      27|2013-07-25|2013-07-25|   3241|   3241|PENDING_PAYMENT|\n",
      "|      30|2013-07-25|2013-07-25|  10039|  10039|PENDING_PAYMENT|\n",
      "|      33|2013-07-25|2013-07-25|   5793|   5793|PENDING_PAYMENT|\n",
      "|      36|2013-07-25|2013-07-25|   5649|   5649|        PENDING|\n",
      "|      39|2013-07-25|2013-07-25|   8214|   8214|        PENDING|\n",
      "|      40|2013-07-25|2013-07-25|  12092|  12092|PENDING_PAYMENT|\n",
      "|      41|2013-07-25|2013-07-25|   8136|   8136|PENDING_PAYMENT|\n",
      "|      42|2013-07-25|2013-07-25|   9776|   9776|        PENDING|\n",
      "|      43|2013-07-25|2013-07-25|   7776|   7776|PENDING_PAYMENT|\n",
      "|      44|2013-07-25|2013-07-25|  10500|  10500|        PENDING|\n",
      "|      47|2013-07-25|2013-07-25|   8487|   8487|PENDING_PAYMENT|\n",
      "|      49|2013-07-25|2013-07-25|   1871|   1871|        PENDING|\n",
      "+--------+----------+----------+-------+-------+---------------+\n",
      "only showing top 20 rows\n",
      "\n"
     ]
    }
   ],
   "source": [
    "orders_df.select(\"order_id\",orders_df.order_date,orders_df['order_date'], column('cust_id'), col('cust_id'), expr(\"order_status\")).where(col('order_status').like('PENDING%')).show()"
   ]
  },
  {
   "cell_type": "code",
   "execution_count": 13,
   "id": "fbe83825",
   "metadata": {},
   "outputs": [
    {
     "name": "stdout",
     "output_type": "stream",
     "text": [
      "+--------+----------+----------+-------+-------+------------+\n",
      "|order_id|order_date|order_date|cust_id|cust_id|order_status|\n",
      "+--------+----------+----------+-------+-------+------------+\n",
      "|      21|2013-07-25|2013-07-25|   2711|   2711|     PENDING|\n",
      "|      36|2013-07-25|2013-07-25|   5649|   5649|     PENDING|\n",
      "|      39|2013-07-25|2013-07-25|   8214|   8214|     PENDING|\n",
      "|      42|2013-07-25|2013-07-25|   9776|   9776|     PENDING|\n",
      "|      44|2013-07-25|2013-07-25|  10500|  10500|     PENDING|\n",
      "|      49|2013-07-25|2013-07-25|   1871|   1871|     PENDING|\n",
      "|      55|2013-07-25|2013-07-25|   2052|   2052|     PENDING|\n",
      "|      68|2013-07-25|2013-07-25|   4320|   4320|     PENDING|\n",
      "|      85|2013-07-25|2013-07-25|   1485|   1485|     PENDING|\n",
      "|      96|2013-07-25|2013-07-25|   8683|   8683|     PENDING|\n",
      "|      97|2013-07-25|2013-07-25|  10784|  10784|     PENDING|\n",
      "|     121|2013-07-26|2013-07-26|   2074|   2074|     PENDING|\n",
      "|     132|2013-07-26|2013-07-26|    289|    289|     PENDING|\n",
      "|     158|2013-07-26|2013-07-26|  12345|  12345|     PENDING|\n",
      "|     167|2013-07-26|2013-07-26|   1347|   1347|     PENDING|\n",
      "|     181|2013-07-26|2013-07-26|   7473|   7473|     PENDING|\n",
      "|     188|2013-07-26|2013-07-26|   2889|   2889|     PENDING|\n",
      "|     189|2013-07-26|2013-07-26|  10177|  10177|     PENDING|\n",
      "|     190|2013-07-26|2013-07-26|  11115|  11115|     PENDING|\n",
      "|     206|2013-07-26|2013-07-26|   8994|   8994|     PENDING|\n",
      "+--------+----------+----------+-------+-------+------------+\n",
      "only showing top 20 rows\n",
      "\n"
     ]
    }
   ],
   "source": [
    "orders_df.select(\"order_id\",orders_df.order_date,orders_df['order_date'], column('cust_id'), col('cust_id'), expr(\"order_status\")).where(\"order_status like 'PENDING'\").show()"
   ]
  },
  {
   "cell_type": "code",
   "execution_count": null,
   "id": "ec2e4c72",
   "metadata": {},
   "outputs": [],
   "source": []
  }
 ],
 "metadata": {
  "kernelspec": {
   "display_name": "Pyspark 2",
   "language": "python",
   "name": "pyspark2"
  },
  "language_info": {
   "codemirror_mode": {
    "name": "ipython",
    "version": 3
   },
   "file_extension": ".py",
   "mimetype": "text/x-python",
   "name": "python",
   "nbconvert_exporter": "python",
   "pygments_lexer": "ipython3",
   "version": "3.6.12"
  }
 },
 "nbformat": 4,
 "nbformat_minor": 5
}
