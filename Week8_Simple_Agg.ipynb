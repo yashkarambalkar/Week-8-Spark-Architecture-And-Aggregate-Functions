{
 "cells": [
  {
   "cell_type": "code",
   "execution_count": null,
   "id": "2a9f881b",
   "metadata": {},
   "outputs": [],
   "source": [
    "from pyspark.sql import SparkSession\n",
    "import getpass\n",
    "username = getpass.getuser()\n",
    "spark = SparkSession. \\\n",
    "builder. \\\n",
    "config('spark.ui.port','0'). \\\n",
    "config(\"spark.sql.warehouse.dir\", f\"/user/{username}/warehouse\"). \\\n",
    "enableHiveSupport(). \\\n",
    "master('yarn'). \\\n",
    "getOrCreate()"
   ]
  },
  {
   "cell_type": "code",
   "execution_count": null,
   "id": "8b711fa2",
   "metadata": {},
   "outputs": [],
   "source": [
    "orders_df = spark.read \\\n",
    ".format(\"csv\") \\\n",
    ".option(\"inferSchema\", \"true\") \\\n",
    ".option(\"header\",\"true\") \\\n",
    ".load(\"/public/trendytech/datasets/order_data.csv\")"
   ]
  },
  {
   "cell_type": "code",
   "execution_count": null,
   "id": "028675cb",
   "metadata": {},
   "outputs": [],
   "source": [
    "orders_df.show()"
   ]
  },
  {
   "cell_type": "code",
   "execution_count": null,
   "id": "2742d479",
   "metadata": {},
   "outputs": [],
   "source": [
    "from pyspark.sql.functions import *"
   ]
  },
  {
   "cell_type": "code",
   "execution_count": null,
   "id": "47dce71b",
   "metadata": {},
   "outputs": [],
   "source": [
    "orders_df.select(count(\"*\").alias(\"row_count\"),countDistinct(\"InvoiceNo\").alias(\"unique_invoice\"),sum(\"Quantity\").alias(\"total_quantity\"),avg(\"UnitPrice\").alias(\"avg_price\")).show()"
   ]
  },
  {
   "cell_type": "code",
   "execution_count": null,
   "id": "44aa4488",
   "metadata": {},
   "outputs": [],
   "source": [
    "orders_df.selectExpr(\"count(*) as row_count\", \"count(distinct(InvoiceNo)) as unique_invoice\", \"sum(Quantity) as total_quantity\", \"avg(unitPrice) as avg_price\").show()"
   ]
  },
  {
   "cell_type": "code",
   "execution_count": null,
   "id": "346fcc81",
   "metadata": {},
   "outputs": [],
   "source": [
    "orders_df.createOrReplaceTempView(\"orders\")"
   ]
  },
  {
   "cell_type": "code",
   "execution_count": null,
   "id": "b768abb6",
   "metadata": {},
   "outputs": [],
   "source": [
    "spark.sql(\"select count(*) as row_count, count(distinct(InvoiceNo)) as unique_invoice, sum(Quantity) as total_quantity, avg(UnitPrice) as avg_price from orders\").show()"
   ]
  },
  {
   "cell_type": "code",
   "execution_count": null,
   "id": "8ae3944d",
   "metadata": {},
   "outputs": [],
   "source": []
  }
 ],
 "metadata": {
  "kernelspec": {
   "display_name": "Pyspark 2",
   "language": "python",
   "name": "pyspark2"
  },
  "language_info": {
   "codemirror_mode": {
    "name": "ipython",
    "version": 3
   },
   "file_extension": ".py",
   "mimetype": "text/x-python",
   "name": "python",
   "nbconvert_exporter": "python",
   "pygments_lexer": "ipython3",
   "version": "3.6.12"
  }
 },
 "nbformat": 4,
 "nbformat_minor": 5
}
