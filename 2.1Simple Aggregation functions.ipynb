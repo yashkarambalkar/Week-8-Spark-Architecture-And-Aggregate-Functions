{
 "cells": [
  {
   "cell_type": "code",
   "execution_count": 1,
   "id": "e18dbb50",
   "metadata": {},
   "outputs": [],
   "source": [
    "from pyspark.sql import SparkSession\n",
    "import getpass\n",
    "username = getpass.getuser()\n",
    "spark = SparkSession. \\\n",
    "builder. \\\n",
    "config('spark.ui.port','0'). \\\n",
    "config('spark.sql.warehouse.dir',f'/user/{username}/warehouse'). \\\n",
    "enableHiveSupport(). \\\n",
    "master('yarn'). \\\n",
    "getOrCreate()"
   ]
  },
  {
   "cell_type": "code",
   "execution_count": 2,
   "id": "a31697ae",
   "metadata": {},
   "outputs": [],
   "source": [
    "from pyspark.sql.functions import *"
   ]
  },
  {
   "cell_type": "code",
   "execution_count": 3,
   "id": "00ae8ec5",
   "metadata": {},
   "outputs": [],
   "source": [
    "orders_df = spark.read \\\n",
    ".format(\"csv\") \\\n",
    ".option(\"inferSchema\", \"true\") \\\n",
    ".option(\"header\",\"true\") \\\n",
    ".load(\"/public/trendytech/datasets/order_data.csv\")"
   ]
  },
  {
   "cell_type": "code",
   "execution_count": 4,
   "id": "58237632",
   "metadata": {},
   "outputs": [
    {
     "name": "stdout",
     "output_type": "stream",
     "text": [
      "+---------+---------+--------------------+--------+---------------+---------+----------+--------------+\n",
      "|InvoiceNo|StockCode|         Description|Quantity|    InvoiceDate|UnitPrice|CustomerID|       Country|\n",
      "+---------+---------+--------------------+--------+---------------+---------+----------+--------------+\n",
      "|   536378|     null|PACK OF 60 DINOSA...|      24|01-12-2010 9.37|     0.55|     14688|United Kingdom|\n",
      "|   536378|     null|PACK OF 60 PINK P...|      24|01-12-2010 9.37|     0.55|     14688|United Kingdom|\n",
      "|   536378|    84991|60 TEATIME FAIRY ...|      24|01-12-2010 9.37|     0.55|     14688|United Kingdom|\n",
      "|   536378|   84519A|TOMATO CHARLIE+LO...|       6|01-12-2010 9.37|     2.95|     14688|United Kingdom|\n",
      "|   536378|   85183B|CHARLIE & LOLA WA...|      48|01-12-2010 9.37|     1.25|     14688|United Kingdom|\n",
      "|   536378|   85071B|RED CHARLIE+LOLA ...|      96|01-12-2010 9.37|     0.38|     14688|United Kingdom|\n",
      "|   536378|    21931|JUMBO STORAGE BAG...|      10|01-12-2010 9.37|     1.95|     14688|United Kingdom|\n",
      "|   536378|    21929|JUMBO BAG PINK VI...|      10|01-12-2010 9.37|     1.95|     14688|United Kingdom|\n",
      "|   536380|    22961|JAM MAKING SET PR...|      24|01-12-2010 9.41|     1.45|     17809|United Kingdom|\n",
      "|   536381|    22139|RETROSPOT TEA SET...|      23|01-12-2010 9.41|     4.25|     15311|United Kingdom|\n",
      "|   536381|    84854| GIRLY PINK TOOL SET|       5|01-12-2010 9.41|     4.95|     15311|United Kingdom|\n",
      "|   536381|    22411|JUMBO SHOPPER VIN...|      10|01-12-2010 9.41|     1.95|     15311|United Kingdom|\n",
      "|   536381|    82567|AIRLINE LOUNGE,ME...|       2|01-12-2010 9.41|      2.1|     15311|United Kingdom|\n",
      "|   536381|    21672|WHITE SPOT RED CE...|       6|01-12-2010 9.41|     1.25|     15311|United Kingdom|\n",
      "|   536381|    22774|RED DRAWER KNOB A...|      24|01-12-2010 9.41|     1.25|     15311|United Kingdom|\n",
      "|   536381|    22771|CLEAR DRAWER KNOB...|      24|01-12-2010 9.41|     1.25|     15311|United Kingdom|\n",
      "|   536381|    71270|     PHOTO CLIP LINE|       1|01-12-2010 9.41|     1.25|     15311|United Kingdom|\n",
      "|   536381|    22262|FELT EGG COSY CHI...|       1|01-12-2010 9.41|     0.85|     15311|United Kingdom|\n",
      "|   536381|    22637|PIGGY BANK RETROS...|       1|01-12-2010 9.41|     2.55|     15311|United Kingdom|\n",
      "|   536381|    21934|  SKULL SHOULDER BAG|      10|01-12-2010 9.41|     1.65|     15311|United Kingdom|\n",
      "+---------+---------+--------------------+--------+---------------+---------+----------+--------------+\n",
      "only showing top 20 rows\n",
      "\n"
     ]
    }
   ],
   "source": [
    "orders_df.show()"
   ]
  },
  {
   "cell_type": "markdown",
   "id": "cbc339d1",
   "metadata": {},
   "source": [
    "### Find total No of Rows, Invoice, total_quantity, & average price\n",
    "#### [Programmatic WAY: More Like Object notation]"
   ]
  },
  {
   "cell_type": "code",
   "execution_count": 5,
   "id": "311dd792",
   "metadata": {},
   "outputs": [
    {
     "name": "stdout",
     "output_type": "stream",
     "text": [
      "+---------+--------------+--------------+----------------+\n",
      "|row_count|unique_invoice|total_quantity|       avg_price|\n",
      "+---------+--------------+--------------+----------------+\n",
      "|   541782|         25858|       5175855|4.61156532332193|\n",
      "+---------+--------------+--------------+----------------+\n",
      "\n"
     ]
    }
   ],
   "source": [
    "orders_df.select(count(\"*\").alias(\"row_count\"),countDistinct(\"InvoiceNo\").alias(\"unique_invoice\"),sum(\"quantity\").alias(\"total_quantity\"),avg(\"unitprice\").alias(\"avg_price\")).show()"
   ]
  },
  {
   "cell_type": "markdown",
   "id": "633bb035",
   "metadata": {},
   "source": [
    "#### [USING SQL TYPE of WAY: More like expression notation]"
   ]
  },
  {
   "cell_type": "code",
   "execution_count": 6,
   "id": "fd581fb0",
   "metadata": {},
   "outputs": [
    {
     "name": "stdout",
     "output_type": "stream",
     "text": [
      "+---------+--------------+--------------+-----------------+\n",
      "|row_count|unique_invoice|total_quantity|        avg_price|\n",
      "+---------+--------------+--------------+-----------------+\n",
      "|   541782|         25858|       5175855|4.611565323321932|\n",
      "+---------+--------------+--------------+-----------------+\n",
      "\n"
     ]
    }
   ],
   "source": [
    "orders_df.selectExpr(\"count (*) as row_count\",\"count(Distinct (InvoiceNo)) as unique_invoice\",\"sum(quantity) as total_quantity\", \"avg(unitprice) as avg_price\").show()"
   ]
  },
  {
   "cell_type": "markdown",
   "id": "2c1300d8",
   "metadata": {},
   "source": [
    "### Spark SQL Table Method"
   ]
  },
  {
   "cell_type": "code",
   "execution_count": 7,
   "id": "16057da6",
   "metadata": {},
   "outputs": [],
   "source": [
    "orders_df.createOrReplaceTempView(\"orders\")"
   ]
  },
  {
   "cell_type": "code",
   "execution_count": 8,
   "id": "e73beddc",
   "metadata": {},
   "outputs": [
    {
     "name": "stdout",
     "output_type": "stream",
     "text": [
      "+---------+--------------+--------------+-----------------+\n",
      "|row_count|unique_invoice|total_quantity|        avg_price|\n",
      "+---------+--------------+--------------+-----------------+\n",
      "|   541782|         25858|       5175855|4.611565323321928|\n",
      "+---------+--------------+--------------+-----------------+\n",
      "\n"
     ]
    }
   ],
   "source": [
    "spark.sql(\"select count(*) as row_count, count(Distinct(InvoiceNo)) as unique_invoice, sum(quantity) as total_quantity, avg(unitprice) as avg_price from orders\").show()"
   ]
  },
  {
   "cell_type": "code",
   "execution_count": null,
   "id": "d1f333b0",
   "metadata": {},
   "outputs": [],
   "source": []
  }
 ],
 "metadata": {
  "kernelspec": {
   "display_name": "Pyspark 2",
   "language": "python",
   "name": "pyspark2"
  },
  "language_info": {
   "codemirror_mode": {
    "name": "ipython",
    "version": 3
   },
   "file_extension": ".py",
   "mimetype": "text/x-python",
   "name": "python",
   "nbconvert_exporter": "python",
   "pygments_lexer": "ipython3",
   "version": "3.6.12"
  }
 },
 "nbformat": 4,
 "nbformat_minor": 5
}
