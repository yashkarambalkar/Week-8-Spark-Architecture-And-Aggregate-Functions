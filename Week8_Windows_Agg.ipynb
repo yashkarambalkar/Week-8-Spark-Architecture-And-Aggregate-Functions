{
 "cells": [
  {
   "cell_type": "code",
   "execution_count": null,
   "id": "fcdcd4b0",
   "metadata": {},
   "outputs": [],
   "source": [
    "from pyspark.sql import SparkSession\n",
    "import getpass\n",
    "username = getpass.getuser()\n",
    "spark = SparkSession. \\\n",
    "builder. \\\n",
    "config('spark.ui.port','0'). \\\n",
    "config(\"spark.sql.warehouse.dir\", f\"/user/{username}/warehouse\"). \\\n",
    "enableHiveSupport(). \\\n",
    "master('yarn'). \\\n",
    "getOrCreate()"
   ]
  },
  {
   "cell_type": "code",
   "execution_count": null,
   "id": "91147ad8",
   "metadata": {},
   "outputs": [],
   "source": [
    "orders_df = spark.read \\\n",
    ".format(\"csv\") \\\n",
    ".option(\"inferSchema\",\"true\") \\\n",
    ".option(\"header\", \"true\") \\\n",
    ".load(\"/public/trendytech/datasets/windowdata.csv\")"
   ]
  },
  {
   "cell_type": "code",
   "execution_count": null,
   "id": "175b9a8e",
   "metadata": {},
   "outputs": [],
   "source": [
    "orders_df.sort(\"country\").show()"
   ]
  },
  {
   "cell_type": "code",
   "execution_count": null,
   "id": "0c03eb5a",
   "metadata": {},
   "outputs": [],
   "source": [
    "from pyspark.sql.functions import *"
   ]
  },
  {
   "cell_type": "code",
   "execution_count": null,
   "id": "de942d79",
   "metadata": {},
   "outputs": [],
   "source": [
    "mywindow = Window.partitionBy(\"country\") \\\n",
    ".orderBy(\"weeknum\") \\\n",
    ".rowsBetween(Window.unboundedPreceding, Window.currentRow)"
   ]
  },
  {
   "cell_type": "code",
   "execution_count": null,
   "id": "0f74ffd7",
   "metadata": {},
   "outputs": [],
   "source": [
    "result_df = orders_df.withColumn(\"running_total\",sum(\"invoicevalue\").over(mywindow))"
   ]
  },
  {
   "cell_type": "code",
   "execution_count": null,
   "id": "eca0e8f1",
   "metadata": {},
   "outputs": [],
   "source": [
    "result_df.show()"
   ]
  },
  {
   "cell_type": "code",
   "execution_count": null,
   "id": "bc9e4a9e",
   "metadata": {},
   "outputs": [],
   "source": []
  }
 ],
 "metadata": {
  "kernelspec": {
   "display_name": "Pyspark 3",
   "language": "python",
   "name": "pyspark3"
  },
  "language_info": {
   "codemirror_mode": {
    "name": "ipython",
    "version": 3
   },
   "file_extension": ".py",
   "mimetype": "text/x-python",
   "name": "python",
   "nbconvert_exporter": "python",
   "pygments_lexer": "ipython3",
   "version": "3.6.12"
  }
 },
 "nbformat": 4,
 "nbformat_minor": 5
}
